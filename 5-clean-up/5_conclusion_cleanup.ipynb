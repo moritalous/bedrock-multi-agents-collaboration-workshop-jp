{
 "cells": [
  {
   "cell_type": "markdown",
   "id": "fb8d63a2-913e-498a-a01a-5e66a39bf3e7",
   "metadata": {
    "pycharm": {
     "name": "#%% md\n"
    }
   },
   "source": [
    "# Lab 5. Conclusion / Clean Up"
   ]
  },
  {
   "cell_type": "markdown",
   "id": "63678eaa-8830-4cbe-94af-5ebd8b0e03e0",
   "metadata": {
    "pycharm": {
     "name": "#%% md\n"
    }
   },
   "source": [
    "## まとめ\n",
    "\n",
    "おめでとうございます!\n",
    "\n",
    "このセッションのすべてのラボを完了しました。これで、Amazon Bedrock とエージェントの仕組み、および Amazon Bedrock マルチエージェント コラボレーション機能を使用してマルチステップのタスク/ワークフローをオーケストレーションする方法を理解できるようになりました。\n",
    "\n",
    "これは、AWS アカウントから作成されたリソースを削除するための **オプション** のラボです。\n",
    "\n",
    "## セットアップ\n",
    "\n",
    "boto3 のバージョンが最新であることを確認してください。\n",
    "\n",
    "そうでない場合は、no [notebook 1](../1-energy-forecast/1_forecasting_agent.ipynb) を返して、セットアップ ブロックを再度実行します。"
   ]
  },
  {
   "cell_type": "code",
   "execution_count": null,
   "id": "b531fbae-738a-499c-b2d8-3c61f2aec0ee",
   "metadata": {
    "pycharm": {
     "name": "#%%\n"
    }
   },
   "outputs": [],
   "source": [
    "!pip freeze | grep boto3"
   ]
  },
  {
   "cell_type": "markdown",
   "id": "1d20d4f7",
   "metadata": {
    "pycharm": {
     "name": "#%% md\n"
    }
   },
   "source": [
    "パッケージを有効にするにはカーネルを再起動してください"
   ]
  },
  {
   "cell_type": "code",
   "execution_count": null,
   "id": "eb365df3",
   "metadata": {
    "pycharm": {
     "name": "#%%\n"
    }
   },
   "outputs": [],
   "source": [
    "import IPython\n",
    "\n",
    "# IPython.Application.instance().kernel.do_shutdown(True)"
   ]
  },
  {
   "cell_type": "markdown",
   "id": "0bb52531",
   "metadata": {
    "pycharm": {
     "name": "#%% md\n"
    }
   },
   "source": [
    "次のセクションでは、Python パスに `agents.py` と `knowledge_bases.py` を追加して、ファイルが認識され、呼び出されるようにします。"
   ]
  },
  {
   "cell_type": "code",
   "execution_count": null,
   "id": "1324f145",
   "metadata": {
    "pycharm": {
     "name": "#%%\n"
    }
   },
   "outputs": [],
   "source": [
    "import sys\n",
    "\n",
    "sys.path.insert(0, \".\")\n",
    "sys.path.insert(1, \"..\")\n",
    "\n",
    "from utils.bedrock_agent_helper import (\n",
    "    AgentsForAmazonBedrock\n",
    ")\n",
    "from utils.knowledge_base_helper import (\n",
    "    KnowledgeBasesForAmazonBedrock\n",
    ")\n",
    "agents = AgentsForAmazonBedrock()\n",
    "kb = KnowledgeBasesForAmazonBedrock()"
   ]
  },
  {
   "cell_type": "markdown",
   "id": "997a4e44",
   "metadata": {
    "pycharm": {
     "name": "#%% md\n"
    }
   },
   "source": [
    "以前のノートブックから変数を取得してリソースをクリーンアップします。"
   ]
  },
  {
   "cell_type": "code",
   "execution_count": null,
   "id": "99986c91",
   "metadata": {
    "pycharm": {
     "name": "#%%\n"
    }
   },
   "outputs": [],
   "source": [
    "%store -r"
   ]
  },
  {
   "cell_type": "markdown",
   "id": "e5327b71",
   "metadata": {
    "pycharm": {
     "name": "#%% md\n"
    }
   },
   "source": [
    "## リソースのクリーンアップ\n",
    "\n",
    "次のブロックは、以前のラボで作成されたリソースを削除します。"
   ]
  },
  {
   "cell_type": "markdown",
   "id": "47adb2e9-61a2-47d4-aa82-71dcd2e19400",
   "metadata": {
    "pycharm": {
     "name": "#%% md\n"
    }
   },
   "source": [
    "### スーパーバイザーエージェントを削除する"
   ]
  },
  {
   "cell_type": "code",
   "execution_count": null,
   "id": "14610a10-a0f2-477d-a453-ab442128288a",
   "metadata": {
    "pycharm": {
     "name": "#%%\n"
    }
   },
   "outputs": [],
   "source": [
    "agents.delete_agent(agent_name=energy_agent_name)"
   ]
  },
  {
   "cell_type": "markdown",
   "id": "77fa8b66-7be8-442a-addd-387d3700715a",
   "metadata": {
    "pycharm": {
     "name": "#%% md\n"
    }
   },
   "source": [
    "### サブエージェントを削除する"
   ]
  },
  {
   "cell_type": "code",
   "execution_count": null,
   "id": "239da908-2115-489d-9489-2aa89b9c4c30",
   "metadata": {
    "pycharm": {
     "name": "#%%\n"
    }
   },
   "outputs": [],
   "source": [
    "agents.delete_agent(forecast_agent_name)"
   ]
  },
  {
   "cell_type": "code",
   "execution_count": null,
   "id": "506e1df3-722c-4f5c-8bb9-51d111069c96",
   "metadata": {
    "pycharm": {
     "name": "#%%\n"
    }
   },
   "outputs": [],
   "source": [
    "agents.delete_agent(solar_agent_name)"
   ]
  },
  {
   "cell_type": "code",
   "execution_count": null,
   "id": "550bf448-e761-4b17-8bb4-1d29394ea733",
   "metadata": {
    "pycharm": {
     "name": "#%%\n"
    }
   },
   "outputs": [],
   "source": [
    "agents.delete_agent(peak_agent_name)"
   ]
  },
  {
   "cell_type": "markdown",
   "id": "df79e349",
   "metadata": {
    "pycharm": {
     "name": "#%% md\n"
    }
   },
   "source": [
    "### すべての Lambda 関数を削除します\n",
    "\n",
    "必要な変数がすべて復元されたことを確認します:"
   ]
  },
  {
   "cell_type": "code",
   "execution_count": null,
   "id": "7365ba1a",
   "metadata": {
    "pycharm": {
     "name": "#%%\n"
    }
   },
   "outputs": [],
   "source": [
    "forecast_lambda_name, forecast_dynamodb, solar_lambda_name, solar_dynamodb, peak_lambda_name, peak_dynamodb"
   ]
  },
  {
   "cell_type": "code",
   "execution_count": null,
   "id": "62dba01a",
   "metadata": {
    "pycharm": {
     "name": "#%%\n"
    }
   },
   "outputs": [],
   "source": [
    "agents.delete_lambda(forecast_lambda_name, dynamoDB_table=forecast_dynamodb)"
   ]
  },
  {
   "cell_type": "code",
   "execution_count": null,
   "id": "6934c418",
   "metadata": {
    "pycharm": {
     "name": "#%%\n"
    }
   },
   "outputs": [],
   "source": [
    "agents.delete_lambda(solar_lambda_name, dynamoDB_table=solar_dynamodb)"
   ]
  },
  {
   "cell_type": "code",
   "execution_count": null,
   "id": "f73f3b63",
   "metadata": {
    "pycharm": {
     "name": "#%%\n"
    }
   },
   "outputs": [],
   "source": [
    "agents.delete_lambda(peak_lambda_name, dynamoDB_table=peak_dynamodb)"
   ]
  },
  {
   "cell_type": "markdown",
   "id": "2c74e29f",
   "metadata": {
    "pycharm": {
     "name": "#%% md\n"
    }
   },
   "source": [
    "### ナレッジ ベースを削除\n",
    "\n",
    "必要な変数がすべて復元されたかどうかを確認しています:"
   ]
  },
  {
   "cell_type": "code",
   "execution_count": null,
   "id": "9acbdfd2",
   "metadata": {
    "pycharm": {
     "name": "#%%\n"
    }
   },
   "outputs": [],
   "source": [
    "forecast_kb, solar_kb"
   ]
  },
  {
   "cell_type": "code",
   "execution_count": null,
   "id": "43c8c6da",
   "metadata": {
    "pycharm": {
     "name": "#%%\n"
    }
   },
   "outputs": [],
   "source": [
    "kb.delete_kb(forecast_kb)"
   ]
  },
  {
   "cell_type": "code",
   "execution_count": null,
   "id": "652f477a",
   "metadata": {
    "pycharm": {
     "name": "#%%\n"
    }
   },
   "outputs": [],
   "source": [
    "kb.delete_kb(solar_kb)"
   ]
  },
  {
   "cell_type": "markdown",
   "id": "3705d199-4098-4ef1-8646-5d7c7f816ff2",
   "metadata": {
    "pycharm": {
     "name": "#%% md\n"
    }
   },
   "source": [
    "## おめでとうございます!\n",
    "これでこのラボは完了です!"
   ]
  }
 ],
 "metadata": {
  "kernelspec": {
   "display_name": "Python 3 (ipykernel)",
   "language": "python",
   "name": "python3"
  },
  "language_info": {
   "codemirror_mode": {
    "name": "ipython",
    "version": 3
   },
   "file_extension": ".py",
   "mimetype": "text/x-python",
   "name": "python",
   "nbconvert_exporter": "python",
   "pygments_lexer": "ipython3",
   "version": "3.11.10"
  }
 },
 "nbformat": 4,
 "nbformat_minor": 5
}
