{
 "cells": [
  {
   "cell_type": "markdown",
   "id": "fb8d63a2-913e-498a-a01a-5e66a39bf3e7",
   "metadata": {
    "pycharm": {
     "name": "#%% md\n"
    }
   },
   "source": [
    "# Lab 1. Forecasting Agent"
   ]
  },
  {
   "attachments": {},
   "cell_type": "markdown",
   "id": "63678eaa-8830-4cbe-94af-5ebd8b0e03e0",
   "metadata": {
    "pycharm": {
     "name": "#%% md\n"
    }
   },
   "source": [
    "## はじめに\n",
    "\n",
    "このノートブックでは、[Amazon Bedrock Agents](https://aws.amazon.com/bedrock/agents/) で最初のサブエージェントを作成する方法を説明します。\n",
    "\n",
    "Amazon Bedrock Agents を使用すると、生成 AI アプリケーションで自然言語を使用して複数ステップのビジネスタスクを実行できます。\n",
    "\n",
    "最初の例では、予測エージェントを作成します。顧客はエージェントに現在のエネルギー消費量とその予測に関する情報を返すように依頼できます。\n",
    "\n",
    "以下は、このモジュール上に構築されるアーキテクチャの一部を表しています。\n",
    "\n",
    "![予測エージェントのアーキテクチャ](img/forecast_agent.png)\n",
    "\n",
    "この例では、エージェントがコード解釈機能を使用して、エネルギー使用量とその予測データに基づいて基本的な計算を実行できるようにします。また、[Amazon Bedrock Knowledge Bases](https://aws.amazon.com/bedrock/knowledge-bases/) を使用して、予測モデルとその機能に関するドキュメントも提供しています。\n",
    "\n",
    "完了の理由から、エネルギー予測は、SageMakerでホストされているMLモデルを使用して、このエージェントの範囲外ですでに行われているものと仮定します。"
   ]
  },
  {
   "cell_type": "markdown",
   "id": "b3ba49fa-3293-4ea6-8dee-fb9f410c6481",
   "metadata": {
    "pycharm": {
     "name": "#%% md\n"
    }
   },
   "source": [
    "## セットアップ\n",
    "\n",
    "まず、pip から boto3 の依存関係をインストールします。完全な機能を使用するには、最新バージョンであることを確認してください。"
   ]
  },
  {
   "cell_type": "code",
   "execution_count": null,
   "id": "a2436bab",
   "metadata": {
    "pycharm": {
     "name": "#%%\n"
    }
   },
   "outputs": [],
   "source": [
    "!pip uninstall boto3 botocore awscli --yes"
   ]
  },
  {
   "cell_type": "code",
   "execution_count": null,
   "id": "1abeca2c-3181-42c3-adc5-70f993fc7ab0",
   "metadata": {
    "pycharm": {
     "name": "#%%\n"
    },
    "scrolled": true
   },
   "outputs": [],
   "source": [
    "# Install latest boto3\n",
    "!python3 -m pip install --force-reinstall --no-cache -q --no-dependencies -r ../requirements.txt"
   ]
  },
  {
   "cell_type": "markdown",
   "id": "9cab0934-d025-47a2-a276-9d3fdb5a1d61",
   "metadata": {
    "pycharm": {
     "name": "#%% md\n"
    }
   },
   "source": [
    "#### カーネルを再起動\n",
    "\n",
    "最新のマルチエージェント機能を適用する際に問題が発生する場合は、この行のコメントを解除してカーネルを再起動し、パッケージの更新が有効になるようにします"
   ]
  },
  {
   "cell_type": "code",
   "execution_count": null,
   "id": "c10d5b0b-fc4d-4733-a1cc-49ef6402785f",
   "metadata": {
    "pycharm": {
     "name": "#%%\n"
    }
   },
   "outputs": [],
   "source": [
    "import IPython\n",
    "\n",
    "# IPython.Application.instance().kernel.do_shutdown(True)"
   ]
  },
  {
   "cell_type": "markdown",
   "id": "987fc8f7",
   "metadata": {
    "pycharm": {
     "name": "#%% md\n"
    }
   },
   "source": [
    "boto3のバージョンを確認してください"
   ]
  },
  {
   "cell_type": "code",
   "execution_count": null,
   "id": "4cef0a80",
   "metadata": {
    "pycharm": {
     "name": "#%%\n"
    }
   },
   "outputs": [],
   "source": [
    "!pip freeze | grep boto3"
   ]
  },
  {
   "cell_type": "markdown",
   "id": "ccf37dd5-bfaf-4563-a6ad-f9d7637c6e43",
   "metadata": {
    "pycharm": {
     "name": "#%% md\n"
    }
   },
   "source": [
    "## エージェントの作成\n",
    "\n",
    "このセクションでは、ノートブック全体でヘルパーとして機能するグローバル変数を宣言し、最初のエージェントの作成を開始します。"
   ]
  },
  {
   "cell_type": "code",
   "execution_count": null,
   "id": "277a742a-5f17-4dfc-ac36-1b70ce8f4f7d",
   "metadata": {
    "pycharm": {
     "name": "#%%\n"
    }
   },
   "outputs": [],
   "source": [
    "import boto3\n",
    "import os\n",
    "import json\n",
    "import time\n",
    "\n",
    "sts_client = boto3.client('sts')\n",
    "session = boto3.session.Session()\n",
    "\n",
    "account_id = sts_client.get_caller_identity()[\"Account\"]\n",
    "region = session.region_name\n",
    "account_id_suffix = account_id[:3]\n",
    "agent_suffix = f\"{region}-{account_id_suffix}\"\n",
    "\n",
    "s3_client = boto3.client('s3', region)\n",
    "bedrock_client = boto3.client('bedrock-runtime', region)\n",
    "\n",
    "agent_foundation_model = [\n",
    "    'anthropic.claude-3-5-sonnet-20240620-v1:0',\n",
    "    'anthropic.claude-3-sonnet-20240229-v1:0',\n",
    "    'anthropic.claude-3-haiku-20240307-v1:0'\n",
    "]"
   ]
  },
  {
   "cell_type": "code",
   "execution_count": null,
   "id": "a27cc6c8-4faa-4adc-90c8-7ace112877e1",
   "metadata": {
    "pycharm": {
     "name": "#%%\n"
    }
   },
   "outputs": [],
   "source": [
    "forecast_agent_name = f\"forecast-{agent_suffix}\"\n",
    "\n",
    "forecast_lambda_name = f\"fn-forecast-agent-{agent_suffix}\"\n",
    "\n",
    "forecast_agent_role_name = f'AmazonBedrockExecutionRoleForAgents_{forecast_agent_name}'\n",
    "\n",
    "dynamodb_table = f\"{forecast_agent_name}-table\"\n",
    "dynamodb_pk = \"customer_id\"\n",
    "dynamodb_sk = \"day\"\n",
    "\n",
    "dynamoDB_args = [dynamodb_table, dynamodb_pk, dynamodb_sk]\n",
    "\n",
    "knowledge_base_name = f'{forecast_agent_name}-kb'\n",
    "suffix = f\"{region}-{account_id}\"\n",
    "\n",
    "knowledge_base_description = \"KB containing information on how forecasting process is done\"\n",
    "bucket_name = f'forecast-agent-kb-{suffix}'\n"
   ]
  },
  {
   "cell_type": "markdown",
   "id": "9ad49f25",
   "metadata": {
    "pycharm": {
     "name": "#%% md\n"
    }
   },
   "source": [
    "### ヘルパー関数のインポート\n",
    "\n",
    "次のセクションでは、`bedrock_agent_helper.py` と `knowledge_base_helper` を Python パスに追加して、ファイルが認識され、その機能を呼び出すことができるようにします。\n",
    "\n",
    "次に、ヘルパー クラス `bedrock_agent_helper.py` と `knowledge_base_helper.py` をインポートします。\n",
    "\n",
    "これらのファイルには、ラボをスムーズに実行することに重点を置いたヘルパー クラスが含まれています。\n",
    "\n",
    "Bedrock とのすべてのやり取りは、これらのクラスによって処理されます。\n",
    "\n",
    "このラボで呼び出すメソッドは次のとおりです:\n",
    "\n",
    "`agents.py` の場合:\n",
    "- `create_agent`: 新しいエージェントとそれぞれの IAM ロールを作成します\n",
    "- `add_action_group_with_lambda`: Lambda 関数を作成し、以前に作成したエージェントのアクション グループとして追加します\n",
    "- `create_agent_alias`: このエージェントのエイリアスを作成します\n",
    "- `invoke`: エージェントを実行します\n",
    "\n",
    "`knowledge_bases.py` の場合:\n",
    "- `create_or_retrieve_knowledge_base`: Amazon Bedrock にナレッジ ベースが存在しない場合は作成するか、以前に作成したナレッジ ベースに関する情報を取得します。\n",
    "- `synchronize_data`: S3 上のファイルを読み取り、テキスト情報をベクトルに変換して、その情報を Vector Database に追加します。"
   ]
  },
  {
   "cell_type": "code",
   "execution_count": null,
   "id": "bcad12b0",
   "metadata": {
    "pycharm": {
     "name": "#%%\n"
    }
   },
   "outputs": [],
   "source": [
    "import sys\n",
    "\n",
    "sys.path.insert(0, \".\")\n",
    "sys.path.insert(1, \"..\")\n",
    "\n",
    "from utils.bedrock_agent_helper import (\n",
    "    AgentsForAmazonBedrock\n",
    ")\n",
    "from utils.knowledge_base_helper import (\n",
    "    KnowledgeBasesForAmazonBedrock\n",
    ")\n",
    "agents = AgentsForAmazonBedrock()\n",
    "kb = KnowledgeBasesForAmazonBedrock()"
   ]
  },
  {
   "cell_type": "markdown",
   "id": "dc98a7c6",
   "metadata": {
    "pycharm": {
     "name": "#%% md\n"
    }
   },
   "source": [
    "## ナレッジベースを作成して同期する\n",
    "\n",
    "このセクションでは、Amazon Bedrock ナレッジベースを作成し、そこにデータを取り込みます。\n",
    "\n",
    "このデータには、予測プロセスの実行方法に関する基本情報が含まれています。\n",
    "\n",
    "**この作成プロセスには数分かかる場合があります。**"
   ]
  },
  {
   "cell_type": "code",
   "execution_count": null,
   "id": "2e8e718b",
   "metadata": {
    "pycharm": {
     "name": "#%%\n"
    }
   },
   "outputs": [],
   "source": [
    "%%time\n",
    "kb_id, ds_id = kb.create_or_retrieve_knowledge_base(\n",
    "    knowledge_base_name,\n",
    "    knowledge_base_description,\n",
    "    bucket_name\n",
    ")\n",
    "\n",
    "print(f\"Knowledge Base ID: {kb_id}\")\n",
    "print(f\"Data Source ID: {ds_id}\")"
   ]
  },
  {
   "cell_type": "markdown",
   "id": "9475295c",
   "metadata": {
    "pycharm": {
     "name": "#%% md\n"
    }
   },
   "source": [
    "## S3 にロードする合成データを作成する\n",
    "\n",
    "他の場所でデータを取得する代わりに、Amazon Bedrock の LLM を使用してデータを生成します。\n",
    "生成されるこの偽のデータは、S3 バケットにアップロードされ、Amazon Bedrock ナレッジベースに追加されます。"
   ]
  },
  {
   "cell_type": "code",
   "execution_count": null,
   "id": "e21af0b4",
   "metadata": {
    "pycharm": {
     "name": "#%%\n"
    }
   },
   "outputs": [],
   "source": [
    "path = \"kb_documents\"\n",
    "\n",
    "# Check whether the specified path exists or not\n",
    "is_exist = os.path.exists(path)\n",
    "if not is_exist:\n",
    "   # Create a n ew directory if it does not exist\n",
    "   os.makedirs(path)\n",
    "   print(\"The {} directory was created!\".format(path))\n",
    "else:\n",
    "   print(\"The {} directory already exists!\".format(path))"
   ]
  },
  {
   "cell_type": "markdown",
   "id": "154d8537",
   "metadata": {
    "pycharm": {
     "name": "#%% md\n"
    }
   },
   "source": [
    "Bedrock 上で LLM を呼び出し、Python を使用してローカル ファイルを書き込むヘルパー メソッドを作成する"
   ]
  },
  {
   "cell_type": "code",
   "execution_count": null,
   "id": "1729d027",
   "metadata": {
    "pycharm": {
     "name": "#%%\n"
    }
   },
   "outputs": [],
   "source": [
    "def invoke_bedrock_generate_energy_files(prompt):\n",
    "    message_list = []\n",
    "\n",
    "    initial_message = {\n",
    "        \"role\": \"user\",\n",
    "        \"content\": [\n",
    "            {\n",
    "                \"text\": prompt\n",
    "            }\n",
    "        ],\n",
    "    }\n",
    "\n",
    "    message_list.append(initial_message)\n",
    "\n",
    "    response = bedrock_client.converse(\n",
    "        modelId=agent_foundation_model[0],\n",
    "        messages=message_list,\n",
    "        inferenceConfig={\n",
    "            \"maxTokens\": 2048,\n",
    "            \"temperature\": 0\n",
    "        },\n",
    "    )\n",
    "\n",
    "    return response['output']['message']\n",
    "\n",
    "\n",
    "def write_file(file_name, content):\n",
    "    f = open(file_name, 'w')\n",
    "    f.write(content)\n",
    "    f.close()"
   ]
  },
  {
   "cell_type": "markdown",
   "id": "be06807e",
   "metadata": {
    "pycharm": {
     "name": "#%% md\n"
    }
   },
   "source": [
    "### データ プロンプトの生成\n",
    "LLM モデルを使用して予測情報を含む 1 つのファイルを生成"
   ]
  },
  {
   "cell_type": "code",
   "execution_count": null,
   "id": "b7978ad4",
   "metadata": {
    "pycharm": {
     "name": "#%%\n"
    }
   },
   "outputs": [],
   "source": [
    "text_generation_energy_instructions = '''\n",
    "    You will be act as data-scientist that knows how to do machine learning\n",
    "    forecasting using Python and scikit learn. You will generate a step-by-step\n",
    "    on how to create a forecast process for a time-series data.\n",
    "\n",
    "    This data has the following json structure:\n",
    "    {\n",
    "        \"customer_id\": \"1\",\n",
    "        \"day\": \"2024/06/01\",\n",
    "        \"sumPowerReading\": \"120.0\",\n",
    "        \"kind\":\"measured\"\n",
    "    }\n",
    "\n",
    "    Choose one forecast algorithm, that works on scikit-learn, explain the\n",
    "    details on how to create a step-by-step forecast, with code sample,\n",
    "    showcasing how to run forecast on this data.\n",
    "\n",
    "    Include some explanation on how to understand the forecasted values and\n",
    "    how to decide the factors driving those values.\n",
    "\n",
    "    Answer only with the step-by-step, avoid answer with afirmations like:\n",
    "    \"OK, I can generate it,\" or \"Yes, please find following example.\"\n",
    "    Be direct and only reply the step-by-step.\n",
    "'''\n",
    "\n",
    "solar_energy_file_name = 'forecasting-info.txt'\n",
    "\n",
    "response_message = invoke_bedrock_generate_energy_files(\n",
    "    text_generation_energy_instructions\n",
    ")\n",
    "\n",
    "print(\"Generated data to be stored in the KB:\\n\", response_message['content'][0]['text'])\n",
    "write_file(\n",
    "    '{}/{}'.format(path, solar_energy_file_name),\n",
    "    response_message['content'][0]['text']\n",
    ")"
   ]
  },
  {
   "cell_type": "markdown",
   "id": "67f13cef",
   "metadata": {
    "pycharm": {
     "name": "#%% md\n"
    }
   },
   "source": [
    "### s3 へのデータのアップロード\n",
    "生成されたファイルを Amazon S3 バケットにアップロードします。"
   ]
  },
  {
   "cell_type": "code",
   "execution_count": null,
   "id": "01a44526",
   "metadata": {
    "pycharm": {
     "name": "#%%\n"
    }
   },
   "outputs": [],
   "source": [
    "def upload_directory(path, bucket_name):\n",
    "    for root,dirs,files in os.walk(path):\n",
    "        for file in files:\n",
    "            file_to_upload = os.path.join(root,file)\n",
    "            print(f\"uploading file {file_to_upload} to {bucket_name}\")\n",
    "            s3_client.upload_file(file_to_upload,bucket_name,file)"
   ]
  },
  {
   "cell_type": "markdown",
   "id": "3b38c6b5-a782-48df-bd69-e5a41aeed9ab",
   "metadata": {
    "pycharm": {
     "name": "#%% md\n"
    }
   },
   "source": [
    "### ナレッジベースの同期\n",
    "データが s3 バケットで利用できるようになったので、ナレッジベースに同期してみましょう。"
   ]
  },
  {
   "cell_type": "code",
   "execution_count": null,
   "id": "213ae97a",
   "metadata": {
    "pycharm": {
     "name": "#%%\n"
    }
   },
   "outputs": [],
   "source": [
    "upload_directory(\"kb_documents\", bucket_name)\n",
    "\n",
    "# sync knowledge base\n",
    "kb.synchronize_data(kb_id, ds_id)"
   ]
  },
  {
   "cell_type": "markdown",
   "id": "5f65af49",
   "metadata": {
    "pycharm": {
     "name": "#%% md\n"
    }
   },
   "source": [
    "## エージェントの作成\n",
    "\n",
    "予測プロセスの実行方法に関する情報を含む `Amazon Bedrock ナレッジベース` と、ユーザー リクエストを処理する `アクション グループ`、消費量の増加などの基本的なユーザー リクエストを計算する `コード解釈` 機能を備えた予測エージェントを作成します。\n",
    "\n",
    "正確なエージェントを作成するには、エージェントが実行すべきことと実行すべきでないことについて明確な指示を設定することが重要です。エージェントが使用可能なナレッジベースとアクション グループをいつ使用すべきかを明確に定義することも重要です。\n",
    "\n",
    "エージェントに次の指示を提供します:\n",
    "```\n",
    "あなたは、顧客がエネルギー消費パターンと将来の使用予測を理解するのを支援するエネルギー アシスタントです。\n",
    "\n",
    "次のような能力が必要です:\n",
    "1. 過去のエネルギー消費量を分析する\n",
    "2. 消費量を予測する\n",
    "3. 使用統計を生成する\n",
    "4. 特定の顧客の予測を更新する\n",
    "\n",
    "コアとなる行動:\n",
    "1. 顧客に詳細を尋ねる前に、常に利用可能な情報システムを使用する\n",
    "2. プロフェッショナルでありながら会話的な口調を維持する\n",
    "3. 社内システムやデータ ソースを参照せずに、明確で直接的な回答を提供する\n",
    "4. 情報をわかりやすい方法で提示する\n",
    "5. オンザフライ計算にはコード生成機能と解釈機能を使用する。自分で計算しようとしないでください。\n",
    "6. グラフをプロットしないでください。ユーザーから求められた場合は、プロットを拒否してください。代わりに、データの概要を提供します\n",
    "\n",
    "応答スタイル:\n",
    "- 役に立ち、ソリューション指向であること\n",
    "- 明確で非技術的な言語を使用すること\n",
    "- 実用的な洞察を提供することに重点を置くこと\n",
    "- 自然な会話の流れを維持すること\n",
    "- 簡潔でありながら有益であること\n",
    "- ユーザーに必要のない余分な情報を追加しないこと\n",
    "```\n",
    "\n",
    "また、予測方法の説明のためのナレッジ ベースを次の手順で接続します:\n",
    "```\n",
    "特定の予測生成方法を説明する必要がある場合は、このナレッジ ベースにアクセスします。\n",
    "```\n",
    "\n",
    "また、エージェントが次のツールを使用できるようにします:\n",
    "- `get_forecasted_consumption`: 今後 3 か月のエネルギー使用量予測を取得します\n",
    "- `get_historical_consumption`: 現在までのエネルギー使用量履歴を取得します\n",
    "- `get_consumption_statistics`: 現在の月の使用状況分析を取得します\n",
    "- `update_forecasting`: 特定の月のエネルギー予測を更新します"
   ]
  },
  {
   "cell_type": "code",
   "execution_count": null,
   "id": "daab9cee",
   "metadata": {
    "pycharm": {
     "name": "#%%\n"
    }
   },
   "outputs": [],
   "source": [
    "kb_info = kb.get_kb(kb_id)\n",
    "kb_arn = kb_info['knowledgeBase']['knowledgeBaseArn']"
   ]
  },
  {
   "cell_type": "code",
   "execution_count": null,
   "id": "9f31d063",
   "metadata": {
    "pycharm": {
     "name": "#%%\n"
    }
   },
   "outputs": [],
   "source": [
    "kb_config = {\n",
    "    'kb_id': kb_id,\n",
    "    'kb_instruction': \"\"\"Access this knowledge base when needing to explain specific forecast generation methodology.\"\"\"\n",
    "}"
   ]
  },
  {
   "cell_type": "code",
   "execution_count": null,
   "id": "c4b3f749-dff9-46af-a362-74851ce0713c",
   "metadata": {
    "pycharm": {
     "name": "#%%\n"
    }
   },
   "outputs": [],
   "source": [
    "agent_description = \"\"\"You are a energy usage forecast bot.\n",
    "You can retrieve historical energy consumption, forecasted consumption, usage statistics and update a forecast for a specific user\"\"\"\n",
    "\n",
    "agent_instruction = \"\"\"You are an Energy Assistant that helps customers understand their energy consumption patterns and future usage expectations.\n",
    "\n",
    "Your capabilities include:\n",
    "1. Analyzing historical energy consumption\n",
    "2. Providing consumption forecasts\n",
    "3. Generating usage statistics\n",
    "4. Updating forecasts for specific customers\n",
    "\n",
    "Core behaviors:\n",
    "1. Always use available information systems before asking customers for additional details\n",
    "2. Maintain a professional yet conversational tone\n",
    "3. Provide clear, direct answers without referencing internal systems or data sources\n",
    "4. Present information in an easy-to-understand manner\n",
    "5. Use code generation and interpretation capabilities for any on the fly calculation. DO NOT try to calculate things by yourself.\n",
    "6. DO NOT plot graphs. Refuse to do so when asked by the user. Instead provide an overview of the data\n",
    "\n",
    "Response style:\n",
    "- Be helpful and solution-oriented\n",
    "- Use clear, non-technical language\n",
    "- Focus on providing actionable insights\n",
    "- Maintain natural conversation flow\n",
    "- Be concise yet informative \n",
    "- do not add extra information not required by the user\"\"\"\n",
    "\n",
    "forecast_agent = agents.create_agent(\n",
    "    forecast_agent_name,\n",
    "    agent_description,\n",
    "    agent_instruction,\n",
    "    agent_foundation_model,\n",
    "    kb_arns=[kb_arn],\n",
    "    code_interpretation=True\n",
    ")\n",
    "\n",
    "forecast_agent"
   ]
  },
  {
   "cell_type": "markdown",
   "id": "5ac3046e-d2f0-459e-ac43-4cd600316ccf",
   "metadata": {
    "pycharm": {
     "name": "#%% md\n"
    }
   },
   "source": [
    "### ナレッジベースの関連付け\n",
    "エージェントを作成したので、先ほど作成したナレッジベースをエージェントに関連付けましょう。"
   ]
  },
  {
   "cell_type": "code",
   "execution_count": null,
   "id": "d6c248b3",
   "metadata": {
    "pycharm": {
     "name": "#%%\n"
    }
   },
   "outputs": [],
   "source": [
    "agents.associate_kb_with_agent(\n",
    "    forecast_agent[0],\n",
    "    kb_config['kb_instruction'],\n",
    "    kb_config['kb_id']\n",
    ")"
   ]
  },
  {
   "cell_type": "markdown",
   "id": "67dfcc57-5958-45e8-a4ea-53620142c017",
   "metadata": {
    "pycharm": {
     "name": "#%% md\n"
    }
   },
   "source": [
    "### Lambda の作成\n",
    "\n",
    "エージェントがタスクを実行できるようにするには、タスク実行を実装する AWS Lambda 関数を作成します。次に、この Lambda 関数をエージェントのアクション グループに提供します。アクション グループを使用してエージェントが実行できるアクションを定義する方法の詳細については、[こちら](https://docs.aws.amazon.com/bedrock/latest/userguide/agents-action-create.html) を参照してください。\n",
    "\n",
    "このブロックでは、Lambda 関数コードを生成します。"
   ]
  },
  {
   "cell_type": "code",
   "execution_count": null,
   "id": "d2cfc71d-4b0e-4b00-9159-cc3efd2becbc",
   "metadata": {
    "pycharm": {
     "name": "#%%\n"
    }
   },
   "outputs": [],
   "source": [
    "%%writefile forecast.py\n",
    "import boto3\n",
    "import json\n",
    "import os\n",
    "\n",
    "from boto3.dynamodb.conditions import Key, Attr\n",
    "from datetime import datetime\n",
    "from decimal import Decimal\n",
    "\n",
    "dynamodb_resource = boto3.resource('dynamodb')\n",
    "dynamodb_table = os.getenv('dynamodb_table')\n",
    "dynamodb_pk = os.getenv('dynamodb_pk')\n",
    "dynamodb_sk = os.getenv('dynamodb_sk')\n",
    "truncated_month = datetime.today().replace(day=1, hour=0, minute=0, second=0, microsecond=0)\n",
    "\n",
    "\n",
    "def get_named_parameter(event, name):\n",
    "    return next(item for item in event['parameters'] if item['name'] == name)['value']\n",
    "    \n",
    "def populate_function_response(event, response_body):\n",
    "    return {'response': {'actionGroup': event['actionGroup'], 'function': event['function'],\n",
    "                'functionResponse': {'responseBody': {'TEXT': {'body': str(response_body)}}}}}\n",
    "\n",
    "def trunc_datetime(month,year):\n",
    "    return datetime.today().replace(year =int(year), month=int(month), day=1, hour=0, minute=0, second=0, microsecond=0)\n",
    "\n",
    "def put_dynamodb(table_name, item):\n",
    "    table = dynamodb_resource.Table(table_name)\n",
    "    resp = table.put_item(Item=item)\n",
    "    return resp\n",
    "\n",
    "def read_dynamodb(\n",
    "    table_name: str, \n",
    "    pk_field: str,\n",
    "    pk_value: str,\n",
    "    sk_field: str=None, \n",
    "    sk_value: str=None,\n",
    "    attr_key: str=None,\n",
    "    attr_val: str=None\n",
    "):\n",
    "    try:\n",
    "\n",
    "        table = dynamodb_resource.Table(table_name)\n",
    "        # Create expression\n",
    "        if sk_field:\n",
    "            key_expression = Key(pk_field).eq(pk_value) & Key(sk_field).eq(sk_value)\n",
    "        else:\n",
    "            key_expression = Key(pk_field).eq(pk_value)\n",
    "\n",
    "        if attr_key:\n",
    "            attr_expression = Attr(attr_key).eq(attr_val)\n",
    "            query_data = table.query(\n",
    "                KeyConditionExpression=key_expression,\n",
    "                FilterExpression=attr_expression\n",
    "            )\n",
    "        else:\n",
    "            query_data = table.query(\n",
    "                KeyConditionExpression=key_expression\n",
    "            )\n",
    "        \n",
    "        return query_data['Items']\n",
    "    except Exception:\n",
    "        print(f'Error querying table: {table_name}.')\n",
    "\n",
    "def get_forecasted_consumption(customer_id):\n",
    "    return read_dynamodb(dynamodb_table, \n",
    "                         dynamodb_pk, \n",
    "                         customer_id, \n",
    "                         attr_key=\"kind\", attr_val=\"forecasted\")\n",
    "\n",
    "def get_historical_consumption(customer_id):\n",
    "    return read_dynamodb(dynamodb_table, \n",
    "                         dynamodb_pk, \n",
    "                         customer_id, \n",
    "                         attr_key=\"kind\", attr_val=\"measured\")\n",
    "\n",
    "def get_consumption_statistics(customer_id):\n",
    "    return read_dynamodb(dynamodb_table, \n",
    "                         dynamodb_pk, \n",
    "                         customer_id, \n",
    "                         dynamodb_sk, \n",
    "                         truncated_month.strftime('%Y/%m/%d'))\n",
    "\n",
    "def update_forecasting(customer_id, month, year, usage):\n",
    "    current_date = trunc_datetime(month, year)\n",
    "    if  current_date >= truncated_month:\n",
    "        item = {\n",
    "            'customer_id': customer_id,\n",
    "            'day': current_date.strftime('%Y/%m/%d'),\n",
    "            'sumPowerReading': Decimal(usage),\n",
    "            'kind': 'forecasted'\n",
    "        }\n",
    "        put_dynamodb(dynamodb_table, item)\n",
    "        return \"Day: {} updated for customer: {}\".format(current_date.strftime('%Y/%m/%d'), customer_id)\n",
    "    else:\n",
    "        return \"You're trying to change a past date: {} for customer: {}, which is not allowed\".format(current_date.strftime('%Y/%m/%d'), customer_id)\n",
    "\n",
    "def lambda_handler(event, context):\n",
    "    print(event)\n",
    "    \n",
    "    # name of the function that should be invoked\n",
    "    function = event.get('function', '')\n",
    "\n",
    "    # parameters to invoke function with\n",
    "    parameters = event.get('parameters', [])\n",
    "    customer_id = get_named_parameter(event, \"customer_id\")\n",
    "\n",
    "    if function == 'get_forecasted_consumption':\n",
    "        result = get_forecasted_consumption(customer_id)\n",
    "    elif function == 'get_historical_consumption':\n",
    "        result = get_historical_consumption(customer_id)\n",
    "    elif function == 'get_consumption_statistics':\n",
    "        result = get_consumption_statistics(customer_id)\n",
    "    elif function == 'update_forecasting':\n",
    "        month = get_named_parameter(event, \"month\")\n",
    "        year = get_named_parameter(event, \"year\")\n",
    "        usage = get_named_parameter(event, \"usage\")\n",
    "        result = update_forecasting(customer_id, month, year, usage)\n",
    "    else:\n",
    "        result = f\"Error, function '{function}' not recognized\"\n",
    "\n",
    "    response = populate_function_response(event, result)\n",
    "    print(response)\n",
    "    return response"
   ]
  },
  {
   "cell_type": "markdown",
   "id": "e93595f1-b662-42e5-b6a5-9bdbffb5756f",
   "metadata": {
    "pycharm": {
     "name": "#%% md\n"
    }
   },
   "source": [
    "### 利用可能なアクションの定義\n",
    "\n",
    "次に、[関数の詳細](https://docs.aws.amazon.com/bedrock/latest/userguide/agents-action-function.html) を使用して、エージェントが実行できる利用可能なアクションを定義します。このタスクは OpenAPI スキーマを使用して実行することもできます。これは、アプリケーションですでに OpenAPI スキーマを使用できる場合に非常に便利です。\n",
    "\n",
    "関数の詳細を作成するときは、関数とそのパラメータについて明確な説明を提供することが重要です。エージェントは、実行するタスクを正しく調整するためにそれらに依存しているためです。"
   ]
  },
  {
   "cell_type": "code",
   "execution_count": null,
   "id": "bc151a11",
   "metadata": {
    "pycharm": {
     "name": "#%%\n"
    }
   },
   "outputs": [],
   "source": [
    "functions_def = [\n",
    "    {\n",
    "        \"name\": \"get_forecasted_consumption\",\n",
    "        \"description\": \"\"\"Gets the next 3 months energy usage forecast\"\"\",\n",
    "        \"parameters\": {\n",
    "            \"customer_id\": {\n",
    "                \"description\": \"Unique customer identifier\",\n",
    "                \"required\": True,\n",
    "                \"type\": \"string\"\n",
    "            }\n",
    "        }\n",
    "    },\n",
    "    {\n",
    "        \"name\": \"get_historical_consumption\",\n",
    "        \"description\": \"\"\"Gets energy usage history to date\"\"\",\n",
    "        \"parameters\": {\n",
    "            \"customer_id\": {\n",
    "                \"description\": \"Unique customer identifier\",\n",
    "                \"required\": True,\n",
    "                \"type\": \"string\"\n",
    "            }\n",
    "        }\n",
    "    },\n",
    "    {\n",
    "        \"name\": \"get_consumption_statistics\",\n",
    "        \"description\": \"\"\"Gets current month usage analytics\"\"\",\n",
    "        \"parameters\": {\n",
    "            \"customer_id\": {\n",
    "                \"description\": \"Unique customer identifier\",\n",
    "                \"required\": True,\n",
    "                \"type\": \"string\"\n",
    "            }\n",
    "        }\n",
    "    },\n",
    "    {\n",
    "        \"name\": \"update_forecasting\",\n",
    "        \"description\": \"\"\"Updates the energy forecast for a specific month\"\"\",\n",
    "        \"parameters\": {\n",
    "            \"customer_id\": {\n",
    "                \"description\": \"Unique customer identifier\",\n",
    "                \"required\": True,\n",
    "                \"type\": \"string\"\n",
    "            },\n",
    "            \"month\": {\n",
    "                \"description\": \"Target update month. In the format MM\",\n",
    "                \"required\": True,\n",
    "                \"type\": \"integer\"\n",
    "            },\n",
    "            \"year\": {\n",
    "                \"description\": \"Target update year. In the format YYYY\",\n",
    "                \"required\": True,\n",
    "                \"type\": \"integer\"\n",
    "            },\n",
    "            \"usage\": {\n",
    "                \"description\": \"New consumption value\",\n",
    "                \"required\": True,\n",
    "                \"type\": \"integer\"\n",
    "            }\n",
    "        }\n",
    "    }\n",
    "]"
   ]
  },
  {
   "cell_type": "markdown",
   "id": "566ff86c-e2c8-475a-833e-e0bc359c5767",
   "metadata": {
    "pycharm": {
     "name": "#%% md\n"
    }
   },
   "source": [
    "### アクション グループの作成とエージェントへのアタッチ\n",
    "ここで、この Lambda 関数と関数の詳細をこのエージェントのアクション グループとして追加し、準備します。"
   ]
  },
  {
   "cell_type": "code",
   "execution_count": null,
   "id": "d45c21c0-7a28-417c-a506-021a57b73596",
   "metadata": {
    "pycharm": {
     "name": "#%%\n"
    }
   },
   "outputs": [],
   "source": [
    "agents.add_action_group_with_lambda(\n",
    "    agent_name=forecast_agent_name,\n",
    "    lambda_function_name=forecast_lambda_name,\n",
    "    source_code_file=\"forecast.py\",\n",
    "    agent_functions=functions_def,\n",
    "    agent_action_group_name=\"forecast_consumption_actions\",\n",
    "    agent_action_group_description=\"Function to get usage forecast for a user \",\n",
    "    dynamo_args=dynamoDB_args\n",
    ")"
   ]
  },
  {
   "cell_type": "markdown",
   "id": "ef82aeae",
   "metadata": {
    "pycharm": {
     "name": "#%% md\n"
    }
   },
   "source": [
    "## DynamoDB へのデータのロード\n",
    "\n",
    "エージェントを作成したので、生成されたデータを DynamoDB にロードしましょう。これにより、エージェントはライブ データとやり取りしてアクションを実行できるようになります。"
   ]
  },
  {
   "cell_type": "code",
   "execution_count": null,
   "id": "d641be11",
   "metadata": {
    "pycharm": {
     "name": "#%%\n"
    }
   },
   "outputs": [],
   "source": [
    "with open(\"1_user_sample_data.json\") as f:\n",
    "    table_items = [json.loads(line) for line in f]\n",
    "\n",
    "agents.load_dynamodb(dynamodb_table, table_items)"
   ]
  },
  {
   "cell_type": "markdown",
   "id": "f572c494",
   "metadata": {
    "pycharm": {
     "name": "#%% md\n"
    }
   },
   "source": [
    "データが DynamoDB にロードされたことをテストする"
   ]
  },
  {
   "cell_type": "code",
   "execution_count": null,
   "id": "bec38dee",
   "metadata": {
    "pycharm": {
     "name": "#%%\n"
    }
   },
   "outputs": [],
   "source": [
    "resp = agents.query_dynamodb(\n",
    "    dynamodb_table, dynamodb_pk, '1', dynamodb_sk, \"2024/06/01\"\n",
    ")\n",
    "resp"
   ]
  },
  {
   "cell_type": "markdown",
   "id": "fdbc0aff",
   "metadata": {
    "pycharm": {
     "name": "#%% md\n"
    }
   },
   "source": [
    "## エージェントのテスト\n",
    "\n",
    "では、作成したエージェントが動作するか確認するために、テスト エイリアス「TSTALIASID」を使用します。これにより、エージェントのドラフト バージョンを呼び出すことができます。"
   ]
  },
  {
   "cell_type": "markdown",
   "id": "07836ff6-1987-4b01-bf86-b8153f2107d4",
   "metadata": {
    "pycharm": {
     "name": "#%% md\n"
    }
   },
   "source": [
    "### 予測取得のテスト\n",
    "まず予測取得アクションをテストしましょう"
   ]
  },
  {
   "cell_type": "code",
   "execution_count": null,
   "id": "9b69a4c5",
   "metadata": {
    "pycharm": {
     "name": "#%%\n"
    }
   },
   "outputs": [],
   "source": [
    "%%time\n",
    "response = agents.invoke(\n",
    "    \"\"\"can you give me my forecasted energy consumption? \n",
    "    How does it compare with my past energy usage? My customer id is 1\"\"\", \n",
    "    forecast_agent[0], enable_trace=True\n",
    ")\n",
    "print(\"====================\")\n",
    "print(response)"
   ]
  },
  {
   "cell_type": "code",
   "execution_count": null,
   "id": "b5cedc7c-6da5-4bb6-98aa-5973918e8da4",
   "metadata": {},
   "outputs": [],
   "source": [
    "time.sleep(60)"
   ]
  },
  {
   "cell_type": "markdown",
   "id": "c6ccede9-9257-4935-b71e-8989f1614416",
   "metadata": {
    "pycharm": {
     "name": "#%% md\n"
    }
   },
   "source": [
    "### 過去の消費量を取得するテスト\n",
    "これで、過去のエネルギー消費量をテストし、コード解釈を使用して夏季の平均エネルギー消費量を計算できるようになりました"
   ]
  },
  {
   "cell_type": "code",
   "execution_count": null,
   "id": "47f04a92",
   "metadata": {
    "pycharm": {
     "name": "#%%\n"
    }
   },
   "outputs": [],
   "source": [
    "%%time\n",
    "response = agents.invoke(\n",
    "    \"can you give me my past energy consumption? What is my average spending on summer months? My customer id is 1\", \n",
    "    forecast_agent[0], enable_trace=True\n",
    ")\n",
    "print(\"====================\")\n",
    "print(response)"
   ]
  },
  {
   "cell_type": "code",
   "execution_count": null,
   "id": "9766b8af-eba8-4d23-a02b-d486fad0ca6e",
   "metadata": {},
   "outputs": [],
   "source": [
    "time.sleep(60)"
   ]
  },
  {
   "cell_type": "markdown",
   "id": "fc24cbce-8b91-40cd-990e-12708c493f10",
   "metadata": {
    "pycharm": {
     "name": "#%% md\n"
    }
   },
   "source": [
    "### ナレッジベースへのアクセスをテストする\n",
    "予測アルゴリズムに関する質問をして、ナレッジベースへのアクセスを確認しましょう"
   ]
  },
  {
   "cell_type": "code",
   "execution_count": null,
   "id": "585a9740",
   "metadata": {
    "pycharm": {
     "name": "#%%\n"
    }
   },
   "outputs": [],
   "source": [
    "%%time\n",
    "response = agents.invoke(\n",
    "    \"What's algorithm used for forecast?\", \n",
    "    forecast_agent[0], enable_trace=True\n",
    ")\n",
    "print(\"====================\")\n",
    "print(response)"
   ]
  },
  {
   "cell_type": "code",
   "execution_count": null,
   "id": "2c3192fc-a835-4808-8039-ae97206e1d18",
   "metadata": {},
   "outputs": [],
   "source": [
    "time.sleep(60)"
   ]
  },
  {
   "cell_type": "markdown",
   "id": "af8c67e4-ceb4-4888-b867-a5fd641407c3",
   "metadata": {
    "pycharm": {
     "name": "#%% md\n"
    }
   },
   "source": [
    "### 予測更新のテスト\n",
    "これで、予測を更新する機能をテストできます"
   ]
  },
  {
   "cell_type": "code",
   "execution_count": null,
   "id": "c8af8180",
   "metadata": {
    "pycharm": {
     "name": "#%%\n"
    }
   },
   "outputs": [],
   "source": [
    "%%time\n",
    "response = agents.invoke(\n",
    "    \"Can you update my forecast for month 12/2024? I will be travelling and my estimate will be 50. My id is 1\", \n",
    "    forecast_agent[0], enable_trace=True\n",
    ")\n",
    "print(\"====================\")\n",
    "print(response)"
   ]
  },
  {
   "cell_type": "code",
   "execution_count": null,
   "id": "668987d0-6db0-45e5-8915-e7b636987e9f",
   "metadata": {},
   "outputs": [],
   "source": [
    "time.sleep(60)"
   ]
  },
  {
   "cell_type": "markdown",
   "id": "25cc200c-8cd2-4724-8e16-44178dfff2a8",
   "metadata": {
    "pycharm": {
     "name": "#%% md\n"
    }
   },
   "source": [
    "### 予測が更新されたことを確認する\n",
    "予測を更新したら、予測が更新されたことを確認し、新しいグラフをプロットしましょう"
   ]
  },
  {
   "cell_type": "code",
   "execution_count": null,
   "id": "e75960bb-86a4-45db-9893-f82da30f701c",
   "metadata": {
    "pycharm": {
     "name": "#%%\n"
    }
   },
   "outputs": [],
   "source": [
    "%%time\n",
    "response = agents.invoke(\n",
    "    \"Can you give me my forecasted energy consumption month by month? My id is 1\", \n",
    "    forecast_agent[0], enable_trace=True\n",
    ")\n",
    "print(\"====================\")\n",
    "print(response)"
   ]
  },
  {
   "cell_type": "code",
   "execution_count": null,
   "id": "55b89c9a-2e6d-44fc-88d0-eb76f436ce06",
   "metadata": {},
   "outputs": [],
   "source": [
    "time.sleep(60)"
   ]
  },
  {
   "cell_type": "markdown",
   "id": "97716d35-2f0e-4ae0-8d98-a4cb1e5ea185",
   "metadata": {
    "pycharm": {
     "name": "#%% md\n"
    }
   },
   "source": [
    "### 予測統計のテスト\n",
    "最後に、統計取得機能をテストしましょう"
   ]
  },
  {
   "cell_type": "code",
   "execution_count": null,
   "id": "257bc8f0",
   "metadata": {
    "pycharm": {
     "name": "#%%\n"
    }
   },
   "outputs": [],
   "source": [
    "%%time\n",
    "response = agents.invoke(\n",
    "    \"can you give me my current consumption? My id is 1\", \n",
    "    forecast_agent[0], enable_trace=True\n",
    ")\n",
    "print(\"====================\")\n",
    "print(response)"
   ]
  },
  {
   "cell_type": "markdown",
   "id": "cc56c1bf-579f-4337-8352-0903da21ed80",
   "metadata": {
    "pycharm": {
     "name": "#%% md\n"
    }
   },
   "source": [
    "## エイリアスの作成\n",
    "\n",
    "ご覧のとおり、エージェントを `TSTALIASID` とともに使用してタスクを完了できます。\n",
    "ただし、マルチエージェント コラボレーションの場合は、最初にエージェントをテストし、完全に機能するようになってからのみ使用することが想定されます。\n",
    "したがって、マルチエージェント コラボレーションでエージェントをサブエージェントとして使用するには、まずエージェント エイリアスを作成し、それを新しいバージョンに接続する必要があります。\n",
    "\n",
    "エージェントをテストして検証したので、次にそのエイリアスを作成しましょう。"
   ]
  },
  {
   "cell_type": "code",
   "execution_count": null,
   "id": "eec0d1ca",
   "metadata": {
    "pycharm": {
     "name": "#%%\n"
    }
   },
   "outputs": [],
   "source": [
    "forecast_agent_alias_id, forecast_agent_alias_arn = agents.create_agent_alias(\n",
    "    forecast_agent[0], 'v1'\n",
    ")"
   ]
  },
  {
   "cell_type": "markdown",
   "id": "29db93eb-9a51-48d2-a6ae-a31b7b5ddde1",
   "metadata": {
    "pycharm": {
     "name": "#%% md\n"
    }
   },
   "source": [
    "## 情報の保存\n",
    "次のノートブックで使用する環境変数をいくつか保存しましょう。"
   ]
  },
  {
   "cell_type": "code",
   "execution_count": null,
   "id": "66d40844-c72b-4114-8415-8cefbe65ebb1",
   "metadata": {
    "pycharm": {
     "name": "#%%\n"
    }
   },
   "outputs": [],
   "source": [
    "forecast_agent_arn = agents.get_agent_arn_by_name(forecast_agent_name)\n",
    "forecast_agent_id = forecast_agent[0]\n",
    "forecast_kb = knowledge_base_name\n",
    "forecast_dynamodb = dynamodb_table\n",
    "\n",
    "%store forecast_agent_arn\n",
    "%store forecast_agent_alias_arn\n",
    "%store forecast_agent_alias_id\n",
    "%store forecast_lambda_name\n",
    "%store forecast_agent_name\n",
    "%store forecast_agent_id\n",
    "%store forecast_kb\n",
    "%store forecast_dynamodb"
   ]
  },
  {
   "cell_type": "code",
   "execution_count": null,
   "id": "99986c91",
   "metadata": {
    "pycharm": {
     "name": "#%%\n"
    }
   },
   "outputs": [],
   "source": [
    "forecast_agent_arn, forecast_agent_alias_arn, forecast_agent_alias_id"
   ]
  },
  {
   "cell_type": "markdown",
   "id": "3453da42-a05c-421d-944e-281d056bdf43",
   "metadata": {
    "pycharm": {
     "name": "#%% md\n"
    }
   },
   "source": [
    "## 次のステップ\n",
    "おめでとうございます！これで予測エージェントが作成されました。次はソーラーパネルエージェントを作成します"
   ]
  }
 ],
 "metadata": {
  "kernelspec": {
   "display_name": "Python 3 (ipykernel)",
   "language": "python",
   "name": "python3"
  },
  "language_info": {
   "codemirror_mode": {
    "name": "ipython",
    "version": 3
   },
   "file_extension": ".py",
   "mimetype": "text/x-python",
   "name": "python",
   "nbconvert_exporter": "python",
   "pygments_lexer": "ipython3",
   "version": "3.11.10"
  }
 },
 "nbformat": 4,
 "nbformat_minor": 5
}
