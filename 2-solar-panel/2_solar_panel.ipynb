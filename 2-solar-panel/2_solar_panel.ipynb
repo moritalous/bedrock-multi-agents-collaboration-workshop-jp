{
 "cells": [
  {
   "cell_type": "markdown",
   "id": "fb8d63a2-913e-498a-a01a-5e66a39bf3e7",
   "metadata": {
    "pycharm": {
     "name": "#%% md\n"
    }
   },
   "source": [
    "# Lab 2. Solar Panel Instructions"
   ]
  },
  {
   "cell_type": "markdown",
   "id": "63678eaa-8830-4cbe-94af-5ebd8b0e03e0",
   "metadata": {
    "pycharm": {
     "name": "#%% md\n"
    }
   },
   "source": [
    "## はじめに\n",
    "\n",
    "このノートブックでは、Amazon Bedrock Agents で 2 番目のサブエージェントを作成する方法を説明します。\n",
    "\n",
    "このエージェントには、ソーラーパネルのインストール方法とメンテナンス方法に関する手順が含まれており、顧客はエージェントに [Amazon Bedrock ナレッジベース](https://aws.amazon.com/bedrock/knowledge-bases/) からこれらの情報を返すように依頼できます。\n",
    "\n",
    "組織は、基盤モデル (FM) に最新の独自の情報を装備するために、Retrieval Augmented Generation (RAG) を使用します。これは、会社のデータソースからデータを取得し、プロンプトを充実させて、より関連性が高く正確な応答を提供する手法です。\n",
    "\n",
    "Amazon Bedrock Knowledge Bases は、Bedrock の完全マネージド機能であり、データソースへのカスタム統合を構築したり、データフローを管理したりすることなく、取り込みから取得、プロンプトの拡張までの RAG ワークフロー全体を実装するのに役立ちます。\n",
    "\n",
    "エージェントのコンテキストでは、質問に対する回答がナレッジ ベースに存在しない場合、顧客はエージェントにサポート チケットの作成を依頼して、人間によるサポートを受け、質問に回答してもらうことができます。\n",
    "\n",
    "以下は、このモジュール上に構築されるアーキテクチャの一部を表しています。\n",
    "\n",
    "![アーキテクチャ](img/solar_panel_agent.png)"
   ]
  },
  {
   "cell_type": "markdown",
   "id": "b3ba49fa-3293-4ea6-8dee-fb9f410c6481",
   "metadata": {
    "pycharm": {
     "name": "#%% md\n"
    }
   },
   "source": [
    "## Setup"
   ]
  },
  {
   "cell_type": "markdown",
   "id": "7b76edd4",
   "metadata": {
    "pycharm": {
     "name": "#%% md\n"
    }
   },
   "source": [
    "boto3 のバージョンが最新であることを確認してください\n",
    "\n",
    "そうでない場合は、[notebook 1](../1-energy-forecast/1_forecasting_agent.ipynb) を返さず、セットアップ ブロックを再度実行してください。"
   ]
  },
  {
   "cell_type": "code",
   "execution_count": null,
   "id": "20b72889",
   "metadata": {
    "pycharm": {
     "name": "#%%\n"
    }
   },
   "outputs": [],
   "source": [
    "!pip freeze | grep boto3"
   ]
  },
  {
   "cell_type": "markdown",
   "id": "ccf37dd5-bfaf-4563-a6ad-f9d7637c6e43",
   "metadata": {
    "pycharm": {
     "name": "#%% md\n"
    }
   },
   "source": [
    "## エージェントの作成\n",
    "\n",
    "このセクションでは、ノートブック全体でヘルパーとして機能するグローバル変数を宣言し、2 番目のエージェントの作成を開始します。"
   ]
  },
  {
   "cell_type": "code",
   "execution_count": null,
   "id": "277a742a-5f17-4dfc-ac36-1b70ce8f4f7d",
   "metadata": {
    "pycharm": {
     "name": "#%%\n"
    }
   },
   "outputs": [],
   "source": [
    "import boto3\n",
    "import os\n",
    "\n",
    "sts_client = boto3.client('sts')\n",
    "session = boto3.session.Session()\n",
    "\n",
    "account_id = sts_client.get_caller_identity()[\"Account\"]\n",
    "region = session.region_name\n",
    "account_id_suffix = account_id[:3]\n",
    "agent_suffix = f\"{region}-{account_id_suffix}\"\n",
    "s3_client = boto3.client('s3', region)\n",
    "bedrock_client = boto3.client('bedrock-runtime', region)\n",
    "\n",
    "agent_foundation_model = [\n",
    "    'anthropic.claude-3-haiku-20240307-v1:0',\n",
    "    'anthropic.claude-3-sonnet-20240229-v1:0',\n",
    "    'anthropic.claude-3-5-sonnet-20240620-v1:0'\n",
    "]"
   ]
  },
  {
   "cell_type": "code",
   "execution_count": null,
   "id": "a27cc6c8-4faa-4adc-90c8-7ace112877e1",
   "metadata": {
    "pycharm": {
     "name": "#%%\n"
    }
   },
   "outputs": [],
   "source": [
    "solar_agent_name = f\"solar-p-{agent_suffix}\"\n",
    "\n",
    "solar_lambda_name = f\"fn-solar-p-{agent_suffix}\"\n",
    "\n",
    "solar_agent_role_name = f'AmazonBedrockExecutionRoleForAgents_{solar_agent_name}'\n",
    "\n",
    "dynamodb_table = f\"{solar_agent_name}-table\"\n",
    "dynamodb_pk = \"customer_id\"\n",
    "dynamodb_sk = \"ticket_id\"\n",
    "\n",
    "dynamoDB_args = [dynamodb_table, dynamodb_pk, dynamodb_sk]\n",
    "\n",
    "knowledge_base_name = f'{solar_agent_name}-kb'\n",
    "suffix = f\"{region}-{account_id}\"\n",
    "\n",
    "knowledge_base_description = \"KB containing solar panel instructions for installation and maintenance\"\n",
    "bucket_name = f'solar-p-kb-{suffix}'"
   ]
  },
  {
   "cell_type": "markdown",
   "id": "5b41a37c",
   "metadata": {
    "pycharm": {
     "name": "#%% md\n"
    }
   },
   "source": [
    "### ヘルパー関数のインポート\n",
    "\n",
    "次のセクションでは、`bedrock_agent_helper.py` と `knowledge_base_helper` を Python パスに追加して、ファイルが認識され、その機能を呼び出すことができるようにします。\n",
    "\n",
    "次に、ヘルパー クラス `bedrock_agent_helper.py` と `knowledge_base_helper.py` をインポートします。\n",
    "\n",
    "これらのファイルには、ラボをスムーズに実行することに重点を置いたヘルパー クラスが含まれています。\n",
    "\n",
    "Bedrock とのすべてのやり取りは、これらのクラスによって処理されます。\n",
    "\n",
    "このラボで呼び出すメソッドは次のとおりです:\n",
    "\n",
    "`agents.py` の場合:\n",
    "- `create_agent`: 新しいエージェントとそれぞれの IAM ロールを作成します\n",
    "- `add_action_group_with_lambda`: Lambda 関数を作成し、以前に作成したエージェントのアクション グループとして追加します\n",
    "- `create_agent_alias`: このエージェントのエイリアスを作成します\n",
    "- `invoke`: エージェントを実行します\n",
    "\n",
    "`knowledge_bases.py` の場合:\n",
    "- `create_or_retrieve_knowledge_base`: Amazon Bedrock にナレッジ ベースが存在しない場合は作成するか、以前に作成したナレッジ ベースに関する情報を取得します。\n",
    "- `synchronize_data`: S3 上のファイルを読み取り、テキスト情報をベクトルに変換して、その情報を Vector Database に追加します。"
   ]
  },
  {
   "cell_type": "code",
   "execution_count": null,
   "id": "de912e83-e8c1-4bd7-adb7-9ad232e13b56",
   "metadata": {
    "pycharm": {
     "name": "#%%\n"
    }
   },
   "outputs": [],
   "source": [
    "import sys\n",
    "\n",
    "sys.path.insert(0, \".\")\n",
    "sys.path.insert(1, \"..\")\n",
    "\n",
    "from utils.bedrock_agent_helper import (\n",
    "    AgentsForAmazonBedrock\n",
    ")\n",
    "from utils.knowledge_base_helper import (\n",
    "    KnowledgeBasesForAmazonBedrock\n",
    ")\n",
    "agents = AgentsForAmazonBedrock()\n",
    "kb = KnowledgeBasesForAmazonBedrock()"
   ]
  },
  {
   "cell_type": "markdown",
   "id": "f455fe28",
   "metadata": {
    "pycharm": {
     "name": "#%% md\n"
    }
   },
   "source": [
    "## ナレッジベースを作成してロードする\n",
    "\n",
    "このセクションでは、Amazon Bedrock ナレッジベースを作成し、そこにデータを取り込みます。\n",
    "\n",
    "次の手順では、ナレッジベースに取り込むために使用するデータを生成します。このデータは、ソーラーパネルの取り扱い方法に関する手順で構成されます\n",
    "\n",
    "**この作成プロセスには数分かかります。**"
   ]
  },
  {
   "cell_type": "code",
   "execution_count": null,
   "id": "040e3a76",
   "metadata": {
    "pycharm": {
     "name": "#%%\n"
    }
   },
   "outputs": [],
   "source": [
    "%%time\n",
    "kb_id, ds_id = kb.create_or_retrieve_knowledge_base(\n",
    "    knowledge_base_name,\n",
    "    knowledge_base_description,\n",
    "    bucket_name\n",
    ")\n",
    "\n",
    "print(f\"Knowledge Base ID: {kb_id}\")\n",
    "print(f\"Data Source ID: {ds_id}\")"
   ]
  },
  {
   "cell_type": "markdown",
   "id": "a6f04f9e",
   "metadata": {
    "pycharm": {
     "name": "#%% md\n"
    }
   },
   "source": [
    "### S3 にロードする合成データを作成する\n",
    "\n",
    "他の場所でデータを取得する代わりに、Amazon Bedrock の LLM を使用してデータを生成します。\n",
    "生成されるこの偽のデータは、S3 バケットにアップロードされ、Amazon Bedrock ナレッジベースに追加されます。"
   ]
  },
  {
   "cell_type": "code",
   "execution_count": null,
   "id": "f9c9b44c",
   "metadata": {
    "pycharm": {
     "name": "#%%\n"
    }
   },
   "outputs": [],
   "source": [
    "path = \"kb_documents\"\n",
    "# Check whether the specified path exists or not\n",
    "isExist = os.path.exists(path)\n",
    "if not isExist:\n",
    "   # Create a n ew directory if it does not exist\n",
    "   os.makedirs(path)\n",
    "   print(\"The {} directory was created!\".format(path))\n",
    "else:\n",
    "   print(\"The {} directory already exists!\".format(path))"
   ]
  },
  {
   "cell_type": "markdown",
   "id": "eb1d898b",
   "metadata": {
    "pycharm": {
     "name": "#%% md\n"
    }
   },
   "source": [
    "Bedrock 上で LLM を呼び出し、Python を使用してローカル ファイルを書き込むヘルパー メソッドを作成する"
   ]
  },
  {
   "cell_type": "code",
   "execution_count": null,
   "id": "eb952b08",
   "metadata": {
    "pycharm": {
     "name": "#%%\n"
    }
   },
   "outputs": [],
   "source": [
    "def invoke_bedrock_generate_energy_files(prompt):\n",
    "    message_list = []\n",
    "\n",
    "    initial_message = {\n",
    "        \"role\": \"user\",\n",
    "        \"content\": [\n",
    "            { \"text\": prompt } \n",
    "        ],\n",
    "    }\n",
    "\n",
    "    message_list.append(initial_message)\n",
    "\n",
    "    response = bedrock_client.converse(\n",
    "        modelId=agent_foundation_model[0],\n",
    "        messages=message_list,\n",
    "        inferenceConfig={\n",
    "            \"maxTokens\": 2048,\n",
    "            \"temperature\": 0\n",
    "        },\n",
    "    )\n",
    "\n",
    "    return response['output']['message']\n",
    "\n",
    "\n",
    "def write_file(file_name, content):\n",
    "    f = open(file_name, 'w')\n",
    "    f.write(content)\n",
    "    f.close"
   ]
  },
  {
   "cell_type": "markdown",
   "id": "c3cd11d3",
   "metadata": {
    "pycharm": {
     "name": "#%% md\n"
    }
   },
   "source": [
    "ソーラーパネルの設置方法を説明したファイルを 1 つ生成します。"
   ]
  },
  {
   "cell_type": "code",
   "execution_count": null,
   "id": "89384886",
   "metadata": {
    "pycharm": {
     "name": "#%%\n"
    }
   },
   "outputs": [],
   "source": [
    "text_generation_energy_instructions = '''\n",
    "    You will be act as an expert on clean energy.\n",
    "    You will generate a step-by-step on how to install a solar panel at home.\n",
    "    You know the following fictional solar panel models: Sunpower X, Sunpower Y\n",
    "    and Sunpower double-X. For each one of those models, provide some general\n",
    "    model description and its features. Next provide a numbered list describing\n",
    "    how to install each model of solar panel. Include information about how to\n",
    "    ensure compliance with energy rules.\n",
    "\n",
    "    Answer only with the instructions and solar panel descriptions.\n",
    "    Avoid answer with afirmations like: \"OK, I can generate it,\",\n",
    "    \"As an expert on clean energy, I \", or \"Yes, please find following example.\"\n",
    "    Be direct and only reply the instructions and descriptions.\n",
    "'''\n",
    "\n",
    "solar_energy_file_name = 'solar-panel-instructions.txt'\n",
    "\n",
    "response_message = invoke_bedrock_generate_energy_files(\n",
    "    text_generation_energy_instructions\n",
    ")\n",
    "description_and_instructions = response_message['content'][0]['text']\n",
    "print(f\"Generated data:\\n{description_and_instructions}\")\n",
    "write_file(\n",
    "    '{}/{}'.format(path, solar_energy_file_name),\n",
    "    description_and_instructions\n",
    ")"
   ]
  },
  {
   "cell_type": "markdown",
   "id": "3ca5728c",
   "metadata": {
    "pycharm": {
     "name": "#%% md\n"
    }
   },
   "source": [
    "### データプロンプトを生成しています\n",
    "ソーラーパネルのメンテナンス方法を説明する別のファイルを生成しています。"
   ]
  },
  {
   "cell_type": "code",
   "execution_count": null,
   "id": "599cecaf",
   "metadata": {
    "pycharm": {
     "name": "#%%\n"
    }
   },
   "outputs": [],
   "source": [
    "text_generation_energy_instructions = f'''\n",
    "    You will be act as an expert on clean energy.\n",
    "    You know the following fictional solar panel models: Sunpower X, Sunpower Y\n",
    "    and Sunpower double-X. Here is are some descriptions of the different\n",
    "    models and how to install them:\n",
    "    <description_and_instructions>\n",
    "    {description_and_instructions}\n",
    "    </description_and_instructions>\n",
    "    Generate a step-by-step instructions on how to do maintenance on each of\n",
    "    those models at a regular home. Include information about how to\n",
    "    ensure consistent compliance with energy rules.\n",
    "    Just answer in a numbered list.\n",
    "'''\n",
    "\n",
    "solar_energy_file_name = 'solar-panel-maintenance.txt'\n",
    "\n",
    "response_message = invoke_bedrock_generate_energy_files(\n",
    "    text_generation_energy_instructions\n",
    ")\n",
    "print(f\"Generated data:\\n{response_message['content'][0]['text']}\")\n",
    "\n",
    "write_file(\n",
    "    '{}/{}'.format(path, solar_energy_file_name),\n",
    "    response_message['content'][0]['text']\n",
    ")\n"
   ]
  },
  {
   "cell_type": "markdown",
   "id": "d34e2b5a",
   "metadata": {
    "pycharm": {
     "name": "#%% md\n"
    }
   },
   "source": [
    "### S3 へのデータのアップロード\n",
    "生成されたファイルを S3 バケットにアップロードします。"
   ]
  },
  {
   "cell_type": "code",
   "execution_count": null,
   "id": "9796eaa4",
   "metadata": {
    "pycharm": {
     "name": "#%%\n"
    }
   },
   "outputs": [],
   "source": [
    "def upload_directory(path, bucket_name):\n",
    "    for root,dirs,files in os.walk(path):\n",
    "        for file in files:\n",
    "            file_to_upload = os.path.join(root,file)\n",
    "            print(f\"uploading file {file_to_upload} to {bucket_name}\")\n",
    "            s3_client.upload_file(file_to_upload,bucket_name,file)"
   ]
  },
  {
   "cell_type": "markdown",
   "id": "2bbde4b1-7576-42ac-b371-621e3162380d",
   "metadata": {
    "pycharm": {
     "name": "#%% md\n"
    }
   },
   "source": [
    "### ナレッジベースの同期\n",
    "データが s3 バケットで利用できるようになったので、ナレッジベースに同期してみましょう。"
   ]
  },
  {
   "cell_type": "code",
   "execution_count": null,
   "id": "e9cb3260",
   "metadata": {
    "pycharm": {
     "name": "#%%\n"
    }
   },
   "outputs": [],
   "source": [
    "upload_directory(\"kb_documents\", bucket_name)\n",
    "\n",
    "# sync knowledge base\n",
    "kb.synchronize_data(kb_id, ds_id)"
   ]
  },
  {
   "cell_type": "markdown",
   "id": "c7593e31",
   "metadata": {
    "pycharm": {
     "name": "#%% md\n"
    }
   },
   "source": [
    "## エージェントの作成\n",
    "\n",
    "ナレッジ ベースと、例外ワークフロー (KB に情報が見つからない場合) を処理するための Lambda アクション グループを持つソーラー パネル エージェントを作成します。\n",
    "\n",
    "このエージェントでは、次の手順を使用します:\n",
    "```\n",
    "あなたは、ソーラー パネルの設置とメンテナンスのガイダンスで顧客を支援するソーラー エネルギー アシスタントです。\n",
    "\n",
    "次のような能力があります:\n",
    "1. 設置手順の提供\n",
    "2. メンテナンス手順の提供\n",
    "3. 一般的な問題のトラブルシューティング\n",
    "4. 専門家による支援のためのサポート チケットの作成\n",
    "\n",
    "コア ビヘイビア:\n",
    "1. 顧客に詳細を尋ねる前に、常に利用可能な情報を使用する\n",
    "2. プロフェッショナルでありながら親しみやすい口調を維持する\n",
    "3. 明確で直接的な回答を提供する\n",
    "4. 技術情報をわかりやすい方法で提示する\n",
    "5. ナレッジ ベースにない情報を決して作成しない\n",
    "\n",
    "サポート チケット プロトコル:\n",
    "- 専門家レベルの問題に対してのみチケットを生成する\n",
    "- チケットを作成するときは、ケース ID のみを使用して応答する\n",
    "- 自分の範囲を超える専門家のアドバイスは提供しない\n",
    "\n",
    "応答スタイル:\n",
    "- 役立つ、ソリューション指向であること\n",
    "- 明確で実用的な言葉を使用する\n",
    "- 実用的なガイダンスに焦点を当てる\n",
    "- 自然な会話の流れを維持する\n",
    "- 簡潔でありながら有益な情報を提供する\n",
    "- ユーザーが必要としない余分な情報を追加しない\n",
    "```\n",
    "また、ナレッジ ベースをソーラー パネルに関する情報に接続します\n",
    "\n",
    "```\n",
    "顧客がソーラー パネルの設置とメンテナンスについて質問したときに、ナレッジ ベースにアクセスします\n",
    "```\n",
    "そして、エージェントが次のツールを利用できるようになります:\n",
    "- `open_ticket`: 新しいサポート チケットを開く\n",
    "- `get_ticket_status`: 既存のチケットの現在のステータスを取得する"
   ]
  },
  {
   "cell_type": "code",
   "execution_count": null,
   "id": "864e39d7",
   "metadata": {
    "pycharm": {
     "name": "#%%\n"
    }
   },
   "outputs": [],
   "source": [
    "kb_info = kb.get_kb(kb_id)\n",
    "kb_arn = kb_info['knowledgeBase']['knowledgeBaseArn']"
   ]
  },
  {
   "cell_type": "code",
   "execution_count": null,
   "id": "9e265f56",
   "metadata": {
    "pycharm": {
     "name": "#%%\n"
    }
   },
   "outputs": [],
   "source": [
    "kb_config = {\n",
    "    'kb_id': kb_id,\n",
    "    'kb_instruction': 'Access the knowledge base when customers ask about to install and maintain solar panels'\n",
    "}"
   ]
  },
  {
   "cell_type": "code",
   "execution_count": null,
   "id": "e1e168c8-180f-4977-96dd-d8006436208b",
   "metadata": {
    "pycharm": {
     "name": "#%%\n"
    }
   },
   "outputs": [],
   "source": [
    "agent_instruction = \"\"\"You are a Solar Energy Assistant that helps customers with solar panel installation and maintenance guidance.\n",
    "\n",
    "Your capabilities include:\n",
    "1. Providing installation instructions\n",
    "2. Offering maintenance procedures\n",
    "3. Troubleshooting common issues\n",
    "4. Creating support tickets for specialist assistance\n",
    "\n",
    "Core behaviors:\n",
    "1. Always use available information before asking customers for additional details\n",
    "2. Maintain a professional yet approachable tone\n",
    "3. Provide clear, direct answers\n",
    "4. Present technical information in an easy-to-understand manner\n",
    "\n",
    "Support ticket protocol:\n",
    "- Only generate tickets for specialist-level issues\n",
    "- Respond exclusively with case ID when creating tickets\n",
    "- Decline providing specialist advice beyond your scope\n",
    "\n",
    "Response style:\n",
    "- Be helpful and solution-oriented\n",
    "- Use clear, practical language\n",
    "- Focus on actionable guidance\n",
    "- Maintain natural conversation flow\n",
    "- Be concise yet informative\n",
    "- Do not add extra information not required by the user\"\"\"\n",
    "\n",
    "agent_description = \"\"\"You are a solar energy helper bot. \n",
    "    You can retrieve information on how to install and do maintenance on solar panels\"\"\"\n",
    "\n",
    "solar_agent = agents.create_agent(\n",
    "    solar_agent_name,\n",
    "    agent_description,\n",
    "    agent_instruction,\n",
    "    agent_foundation_model,\n",
    "    kb_arns=[kb_arn]\n",
    ")\n",
    "solar_agent"
   ]
  },
  {
   "cell_type": "code",
   "execution_count": null,
   "id": "d2cfc71d-4b0e-4b00-9159-cc3efd2becbc",
   "metadata": {
    "pycharm": {
     "name": "#%%\n"
    }
   },
   "outputs": [],
   "source": [
    "agents.associate_kb_with_agent(\n",
    "    solar_agent[0], kb_config['kb_instruction'], kb_config['kb_id']\n",
    ")"
   ]
  },
  {
   "cell_type": "markdown",
   "id": "f595c535",
   "metadata": {
    "pycharm": {
     "name": "#%% md\n"
    }
   },
   "source": [
    "### アクション グループの作成\n",
    "\n",
    "このセッションでは、サポート チケットを処理するアクション グループを作成し、それをエージェントに関連付けます。そのためには、まずエージェントのアクションを実行する Lambda 関数コードを作成します。次に、関数の詳細を使用してエージェントが実行できるアクションを定義します。前のエージェントと同様に、OpenAPI スキーマを使用して利用可能なアクションを定義することもできます。\n",
    "\n",
    "#### Lambda 関数の作成\n",
    "まず、Lambda 関数を作成しましょう"
   ]
  },
  {
   "cell_type": "code",
   "execution_count": null,
   "id": "7086a3ba",
   "metadata": {
    "pycharm": {
     "name": "#%%\n"
    }
   },
   "outputs": [],
   "source": [
    "%%writefile solar_energy.py\n",
    "import os\n",
    "import json\n",
    "import uuid\n",
    "import boto3\n",
    "\n",
    "from boto3.dynamodb.conditions import Key, Attr\n",
    "\n",
    "dynamodb_resource = boto3.resource('dynamodb')\n",
    "dynamodb_table = os.getenv('dynamodb_table')\n",
    "dynamodb_pk = os.getenv('dynamodb_pk')\n",
    "dynamodb_sk = os.getenv('dynamodb_sk')\n",
    "\n",
    "def get_named_parameter(event, name):\n",
    "    try:\n",
    "        return next(item for item in event['parameters'] if item['name'] == name)['value']\n",
    "    except:\n",
    "        return None\n",
    "    \n",
    "def populate_function_response(event, response_body):\n",
    "    return {'response': {'actionGroup': event['actionGroup'], 'function': event['function'],\n",
    "                'functionResponse': {'responseBody': {'TEXT': {'body': str(response_body)}}}}}\n",
    "\n",
    "def put_dynamodb(table_name, item):\n",
    "    table = dynamodb_resource.Table(table_name)\n",
    "    resp = table.put_item(Item=item)\n",
    "    return resp\n",
    "\n",
    "def read_dynamodb(table_name: str, \n",
    "                   pk_field: str,\n",
    "                   pk_value: str,\n",
    "                   sk_field: str=None, \n",
    "                   sk_value: str=None):\n",
    "    try:\n",
    "        table = dynamodb_resource.Table(table_name)\n",
    "        # Create expression\n",
    "        if sk_value:\n",
    "            key_expression = Key(pk_field).eq(pk_value) & Key(sk_field).begins_with(sk_value)\n",
    "        else:\n",
    "            key_expression = Key(pk_field).eq(pk_value)\n",
    "\n",
    "        query_data = table.query(\n",
    "            KeyConditionExpression=key_expression\n",
    "        )\n",
    "        \n",
    "        return query_data['Items']\n",
    "    except Exception:\n",
    "        print(f'Error querying table: {table_name}.')\n",
    "\n",
    "def open_ticket(customer_id, msg):\n",
    "    ticket_id = str(uuid.uuid1())\n",
    "    item = {\n",
    "        'ticket_id': ticket_id,\n",
    "        'customer_id': customer_id,\n",
    "        'description': msg,\n",
    "        'status': 'created'\n",
    "    }\n",
    "    resp = put_dynamodb(dynamodb_table, item)\n",
    "    print(resp)\n",
    "    return \"Thanks for contact customer {}! Your support case was generated with ID: {}\".format(\n",
    "        customer_id, ticket_id\n",
    "    )\n",
    "\n",
    "def get_ticket_status(customer_id,\n",
    "                      ticket_id: str=None):\n",
    "    return read_dynamodb(dynamodb_table, \n",
    "                         dynamodb_pk,\n",
    "                         customer_id,\n",
    "                         dynamodb_sk,\n",
    "                         ticket_id)\n",
    "\n",
    "def lambda_handler(event, context):\n",
    "    print(event)\n",
    "    \n",
    "    # name of the function that should be invoked\n",
    "    function = event.get('function', '')\n",
    "\n",
    "    # parameters to invoke function with\n",
    "    parameters = event.get('parameters', [])\n",
    "    customer_id = get_named_parameter(event, \"customer_id\")\n",
    "\n",
    "    if function == 'open_ticket':\n",
    "        msg = get_named_parameter(event, \"msg\")\n",
    "        result = open_ticket(customer_id, msg)\n",
    "    elif function == 'get_ticket_status':\n",
    "        ticket_id = get_named_parameter(event, \"ticket_id\")\n",
    "        result = get_ticket_status(customer_id, ticket_id)\n",
    "    else:\n",
    "        result = f\"Error, function '{function}' not recognized\"\n",
    "\n",
    "    response = populate_function_response(event, result)\n",
    "    print(response)\n",
    "    return response"
   ]
  },
  {
   "cell_type": "markdown",
   "id": "4e111cd0",
   "metadata": {
    "pycharm": {
     "name": "#%% md\n"
    }
   },
   "source": [
    "### 利用可能なアクションの定義\n",
    "エージェントが実行できるアクションを定義します"
   ]
  },
  {
   "cell_type": "code",
   "execution_count": null,
   "id": "61fd71c6",
   "metadata": {
    "pycharm": {
     "name": "#%%\n"
    }
   },
   "outputs": [],
   "source": [
    "functions_def =[\n",
    "    {\n",
    "        \"name\": \"open_ticket\",\n",
    "        \"description\": \"\"\"Create a ticket to get help with information related with solar panel or clean energy\"\"\",\n",
    "        \"parameters\": {\n",
    "            \"customer_id\": {\n",
    "                \"description\": \"Unique customer identifier\",\n",
    "                \"required\": True,\n",
    "                \"type\": \"string\"\n",
    "            },\n",
    "            \"msg\": {\n",
    "                \"description\": \"The reason why customer is opening a ticket\",\n",
    "                \"required\": True,\n",
    "                \"type\": \"string\"\n",
    "            }\n",
    "        }\n",
    "    },\n",
    "    {\n",
    "        \"name\": \"get_ticket_status\",\n",
    "        \"description\": \"\"\"get the status of an existing ticket\"\"\",\n",
    "        \"parameters\": {\n",
    "            \"customer_id\": {\n",
    "                \"description\": \"Unique customer identifier\",\n",
    "                \"required\": True,\n",
    "                \"type\": \"string\"\n",
    "            },\n",
    "            \"ticket_id\": {\n",
    "                \"description\": \"Unique ticket identifier\",\n",
    "                \"required\": False,\n",
    "                \"type\": \"string\"\n",
    "            }\n",
    "        }\n",
    "    }\n",
    "]"
   ]
  },
  {
   "cell_type": "markdown",
   "id": "d72cde32-57f6-4c13-bc8d-599ea67b6919",
   "metadata": {
    "pycharm": {
     "name": "#%% md\n"
    }
   },
   "source": [
    "#### アクション グループをエージェントに関連付ける\n",
    "最後に、新しいアクション グループを以前に作成したエージェントに関連付けることができます"
   ]
  },
  {
   "cell_type": "code",
   "execution_count": null,
   "id": "f38fb3fd",
   "metadata": {
    "pycharm": {
     "name": "#%%\n"
    }
   },
   "outputs": [],
   "source": [
    "resp = agents.add_action_group_with_lambda(\n",
    "    agent_name=solar_agent_name,\n",
    "    lambda_function_name=solar_lambda_name,\n",
    "    source_code_file=\"solar_energy.py\",\n",
    "    agent_functions=functions_def,\n",
    "    agent_action_group_name=\"solar_energy_actions\",\n",
    "    agent_action_group_description=\"Function to open an energy ticket for a user or get status from an opened ticket\",\n",
    "    dynamo_args=dynamoDB_args\n",
    ")"
   ]
  },
  {
   "cell_type": "markdown",
   "id": "24226dfa-a3ce-4ba3-bcff-da63e99af5c0",
   "metadata": {
    "pycharm": {
     "name": "#%% md\n"
    }
   },
   "source": [
    "## エージェントのテスト\n",
    "\n",
    "では、作成したエージェントが機能していることを確認するために、テストをいくつか実行してみましょう。そのためには、エージェントのドラフト バージョンを呼び出すことができるテスト エイリアス `TSTALIASID` を使用します\n",
    "\n",
    "### メンテナンスに関する質問のテスト\n",
    "まず、既存のソーラー パネルのメンテナンスに関する質問をしてみましょう"
   ]
  },
  {
   "cell_type": "code",
   "execution_count": null,
   "id": "18d8404d",
   "metadata": {
    "pycharm": {
     "name": "#%%\n"
    }
   },
   "outputs": [],
   "source": [
    "%%time\n",
    "response = agents.invoke(\n",
    "    \"how can I check if my Sunpower double-X solar panel eletrical consumption is compliant with energy rules?\", \n",
    "    solar_agent[0], enable_trace=True\n",
    ")\n",
    "print(\"====================\")\n",
    "print(response)"
   ]
  },
  {
   "cell_type": "markdown",
   "id": "05a02421-6043-4722-a0ef-b8361d169662",
   "metadata": {
    "pycharm": {
     "name": "#%% md\n"
    }
   },
   "source": [
    "### テストインストールの質問\n",
    "次に、新しいソーラーパネルの設置に関する質問をしましょう"
   ]
  },
  {
   "cell_type": "code",
   "execution_count": null,
   "id": "76fd1a18-d3a5-4e83-a569-f9aa46ca4f8c",
   "metadata": {
    "pycharm": {
     "name": "#%%\n"
    }
   },
   "outputs": [],
   "source": [
    "%%time\n",
    "response = agents.invoke(\n",
    "    \"how can I install my Sunpower Y solar panel at home?\", \n",
    "    solar_agent[0], enable_trace=True\n",
    ")\n",
    "print(\"====================\")\n",
    "print(response)"
   ]
  },
  {
   "cell_type": "markdown",
   "id": "99f4750f-739b-4f74-a8a2-9044bdeb5266",
   "metadata": {
    "pycharm": {
     "name": "#%% md\n"
    }
   },
   "source": [
    "### パーソナライズされたサポートのテスト\n",
    "では、サポート チケットを作成しましょう。そのためには、顧客 ID を渡してサポート チケットの作成プロセスをトリガーします。"
   ]
  },
  {
   "cell_type": "code",
   "execution_count": null,
   "id": "34693363",
   "metadata": {
    "pycharm": {
     "name": "#%%\n"
    }
   },
   "outputs": [],
   "source": [
    "%%time\n",
    "ticket = agents.invoke(\n",
    "    \"Can I get support to install my Sunpower X solar panel? My customer id is 1\", \n",
    "    solar_agent[0], enable_trace=True\n",
    ")\n",
    "print(\"====================\")\n",
    "print(ticket)"
   ]
  },
  {
   "cell_type": "markdown",
   "id": "332b0302-6dc8-4bc1-84d4-1f2465e3259a",
   "metadata": {
    "pycharm": {
     "name": "#%% md\n"
    }
   },
   "source": [
    "### サポート チケットの詳細を取得するテスト\n",
    "では、サポート チケットの詳細を取得しましょう。そのためには、前のクエリで生成されたチケット ID を `create_ticket` に提供する必要があります。"
   ]
  },
  {
   "cell_type": "code",
   "execution_count": null,
   "id": "fa26f3ee",
   "metadata": {
    "pycharm": {
     "name": "#%%\n"
    }
   },
   "outputs": [],
   "source": [
    "%%time\n",
    "response = agents.invoke(\n",
    "    \"Can I get details on my ticket? My customer id is 1 get my ticket id from our previous conversation {}\".format(ticket), \n",
    "    solar_agent[0], enable_trace=True\n",
    ")\n",
    "print(\"====================\")\n",
    "print(response)"
   ]
  },
  {
   "cell_type": "markdown",
   "id": "15020ecf-77a3-4985-8af0-141c8d79d13b",
   "metadata": {
    "pycharm": {
     "name": "#%% md\n"
    }
   },
   "source": [
    "### オープンサポートチケットの取得のテスト\n",
    "エージェントが複数のオープンケースの詳細を取得できるかどうかも確認しましょう。そのためには、まず新しいサポートケースを作成します。"
   ]
  },
  {
   "cell_type": "code",
   "execution_count": null,
   "id": "94a27d8f",
   "metadata": {
    "pycharm": {
     "name": "#%%\n"
    }
   },
   "outputs": [],
   "source": [
    "%%time\n",
    "response = agents.invoke(\n",
    "    \"Can I get support to review my Sunpower double-X solar panel consumption? My customer id is 1\", \n",
    "    solar_agent[0], enable_trace=True\n",
    ")\n",
    "print(\"====================\")\n",
    "print(response)"
   ]
  },
  {
   "cell_type": "markdown",
   "id": "3f088ac5-6c49-4cc9-aa51-c36ba01329c1",
   "metadata": {
    "pycharm": {
     "name": "#%% md\n"
    }
   },
   "source": [
    "次に、すべてのオープンチケットの概要をリクエストします"
   ]
  },
  {
   "cell_type": "code",
   "execution_count": null,
   "id": "f9964bec",
   "metadata": {
    "pycharm": {
     "name": "#%%\n"
    }
   },
   "outputs": [],
   "source": [
    "%%time\n",
    "response = agents.invoke(\n",
    "    \"Can I get all tickets that I have? My customer id is 1\", \n",
    "    solar_agent[0], enable_trace=True\n",
    ")\n",
    "print(\"====================\")\n",
    "print(response)"
   ]
  },
  {
   "cell_type": "markdown",
   "id": "3d6a8d36-cb73-4e95-b345-dbaf4631f42e",
   "metadata": {
    "pycharm": {
     "name": "#%% md\n"
    }
   },
   "source": [
    "## エイリアスの作成\n",
    "\n",
    "ご覧のとおり、エージェントを `TSTALIASID` とともに使用してタスクを完了できます。\n",
    "ただし、マルチエージェント コラボレーションの場合は、最初にエージェントをテストし、完全に機能するようになってからのみ使用することが想定されます。\n",
    "したがって、マルチエージェント コラボレーションでエージェントをサブエージェントとして使用するには、まずエージェント エイリアスを作成し、それを新しいバージョンに接続する必要があります。\n",
    "\n",
    "エージェントをテストして検証したので、次にそのエイリアスを作成しましょう。"
   ]
  },
  {
   "cell_type": "code",
   "execution_count": null,
   "id": "d94236d9",
   "metadata": {
    "pycharm": {
     "name": "#%%\n"
    }
   },
   "outputs": [],
   "source": [
    "solar_agent_alias_id, solar_agent_alias_arn = agents.create_agent_alias(\n",
    "    solar_agent[0], 'v1'\n",
    ")\n",
    "solar_agent_id = solar_agent[0]"
   ]
  },
  {
   "cell_type": "markdown",
   "id": "7cc715b7",
   "metadata": {
    "pycharm": {
     "name": "#%% md\n"
    }
   },
   "source": [
    "次のノートブックで使用する環境変数を保存します。"
   ]
  },
  {
   "cell_type": "code",
   "execution_count": null,
   "id": "29db93eb-9a51-48d2-a6ae-a31b7b5ddde1",
   "metadata": {
    "pycharm": {
     "name": "#%%\n"
    }
   },
   "outputs": [],
   "source": [
    "solar_agent_arn = agents.get_agent_arn_by_name(solar_agent_name)\n",
    "solar_kb = knowledge_base_name\n",
    "solar_dynamodb = dynamodb_table\n",
    "\n",
    "%store solar_agent_arn\n",
    "%store solar_agent_alias_arn\n",
    "%store solar_agent_alias_id\n",
    "%store solar_lambda_name\n",
    "%store solar_agent_name\n",
    "%store solar_agent_id\n",
    "%store solar_kb\n",
    "%store solar_dynamodb"
   ]
  },
  {
   "cell_type": "code",
   "execution_count": null,
   "id": "c29254c4",
   "metadata": {
    "pycharm": {
     "name": "#%%\n"
    }
   },
   "outputs": [],
   "source": [
    "solar_agent_arn, solar_agent_alias_arn, solar_agent_alias_id"
   ]
  },
  {
   "cell_type": "markdown",
   "id": "e5e51526-e959-46f3-b834-2a32c4016bc4",
   "metadata": {
    "pycharm": {
     "name": "#%% md\n"
    }
   },
   "source": [
    "## 次のステップ\n",
    "おめでとうございます! これでソーラーパネルエージェントが作成されました。次はピークローダーマネージャーエージェントを作成します"
   ]
  }
 ],
 "metadata": {
  "kernelspec": {
   "display_name": "Python 3 (ipykernel)",
   "language": "python",
   "name": "python3"
  },
  "language_info": {
   "codemirror_mode": {
    "name": "ipython",
    "version": 3
   },
   "file_extension": ".py",
   "mimetype": "text/x-python",
   "name": "python",
   "nbconvert_exporter": "python",
   "pygments_lexer": "ipython3",
   "version": "3.11.10"
  }
 },
 "nbformat": 4,
 "nbformat_minor": 5
}
