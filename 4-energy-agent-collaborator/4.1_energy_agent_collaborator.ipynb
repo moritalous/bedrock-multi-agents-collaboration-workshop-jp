{
 "cells": [
  {
   "cell_type": "markdown",
   "id": "fb8d63a2-913e-498a-a01a-5e66a39bf3e7",
   "metadata": {
    "pycharm": {
     "name": "#%% md\n"
    }
   },
   "source": [
    "# Lab 4. Energy Agent Collaborator"
   ]
  },
  {
   "cell_type": "markdown",
   "id": "63678eaa-8830-4cbe-94af-5ebd8b0e03e0",
   "metadata": {
    "pycharm": {
     "name": "#%% md\n"
    }
   },
   "source": [
    "## はじめに\n",
    "\n",
    "このノートブックでは、Amazon Bedrock でマルチエージェント コラボレーター機能を作成する方法を説明します。\n",
    "\n",
    "[マルチエージェント コラボレーション](https://docs.aws.amazon.com/bedrock/latest/userguide/agents-multi-agents-collaboration.html) は、エージェント間の階層的なコラボレーションを可能にする Amazon Bedrock Agents のネイティブ機能です。これで、エージェント コラボレーションを有効にして、セカンダリ エージェントをスーパーバイザー エージェントに関連付けることができます。これらのセカンダリ エージェントは、同じアカウント内の既存のエージェントであればどれでもかまいません。コラボレーションを持つエージェントもその 1 つです。この構成可能なパターンを使用すると、下の図に示すように、エージェントのチェーンを構築できます。\n",
    "\n",
    "![collaboration_hierarch](img/multi-agent_flow.png)\n",
    "\n",
    "このラボでは、前のラボで作成したサブエージェントと対話するスーパーバイザー エージェントを作成します。\n",
    "\n",
    "以下は、マルチエージェント コラボレーターの完全なアーキテクチャを表しています。\n",
    "\n",
    "![アーキテクチャ](img/energy_manager_agent.png)"
   ]
  },
  {
   "cell_type": "markdown",
   "id": "7c1786d6",
   "metadata": {
    "pycharm": {
     "name": "#%% md\n"
    }
   },
   "source": [
    "このラボは 2 つのノートブックに分かれています:\n",
    "\n",
    "- [4.1_energy_agent_collaborator.ipynb](4.1_energy_agent_collaborator.ipynb): エージェントのセットアップが含まれています\n",
    "- [4.2_energy_agent_invocation.ipynb](4.2_energy_agent_invocation.ipynb): エージェントの呼び出しが含まれています"
   ]
  },
  {
   "cell_type": "markdown",
   "id": "b3ba49fa-3293-4ea6-8dee-fb9f410c6481",
   "metadata": {
    "pycharm": {
     "name": "#%% md\n"
    }
   },
   "source": [
    "## セットアップ\n",
    "\n",
    "boto3 のバージョンが最新であることを確認してください。\n",
    "\n",
    "そうでない場合は、[notebook 1](../1-energy-forecast/1_forecasting_agent.ipynb) を返さず、セットアップ ブロックを再度実行してください。"
   ]
  },
  {
   "cell_type": "code",
   "execution_count": null,
   "id": "1895b3fc",
   "metadata": {
    "pycharm": {
     "name": "#%%\n"
    }
   },
   "outputs": [],
   "source": [
    "!pip freeze | grep boto3"
   ]
  },
  {
   "cell_type": "markdown",
   "id": "ccf37dd5-bfaf-4563-a6ad-f9d7637c6e43",
   "metadata": {
    "pycharm": {
     "name": "#%% md\n"
    }
   },
   "source": [
    "### エージェントの作成\n",
    "\n",
    "このセクションでは、ノートブック全体でヘルパーとして機能するグローバル変数を宣言し、エージェントの作成を開始します。"
   ]
  },
  {
   "cell_type": "code",
   "execution_count": null,
   "id": "277a742a-5f17-4dfc-ac36-1b70ce8f4f7d",
   "metadata": {
    "pycharm": {
     "name": "#%%\n"
    }
   },
   "outputs": [],
   "source": [
    "import boto3\n",
    "\n",
    "sts_client = boto3.client('sts')\n",
    "session = boto3.session.Session()\n",
    "\n",
    "account_id = sts_client.get_caller_identity()[\"Account\"]\n",
    "region = session.region_name\n",
    "account_id_suffix = account_id[:3]\n",
    "agent_suffix = f\"{region}-{account_id_suffix}\"\n",
    "\n",
    "agent_foundation_model = [\n",
    "    'anthropic.claude-3-5-sonnet-20240620-v1:0',\n",
    "    'anthropic.claude-3-sonnet-20240229-v1:0',\n",
    "    'anthropic.claude-3-haiku-20240307-v1:0'\n",
    "]"
   ]
  },
  {
   "cell_type": "code",
   "execution_count": null,
   "id": "a27cc6c8-4faa-4adc-90c8-7ace112877e1",
   "metadata": {
    "pycharm": {
     "name": "#%%\n"
    }
   },
   "outputs": [],
   "source": [
    "energy_agent_name = f\"energy-agent-{agent_suffix}\"\n",
    "\n",
    "energy_agent_role_name = f'AmazonBedrockExecutionRoleForAgents_{energy_agent_name}'"
   ]
  },
  {
   "cell_type": "markdown",
   "id": "137601c6",
   "metadata": {
    "pycharm": {
     "name": "#%% md\n"
    }
   },
   "source": [
    "### ヘルパー関数のインポート\n",
    "\n",
    "次のセクションでは、Python パスに `bedrock_agent_helper.py` を追加して、ファイルを認識してその機能を呼び出すことができるようにします。\n",
    "\n",
    "次に、ヘルパー クラス `bedrock_agent_helper.py` をインポートします。\n",
    "\n",
    "これらのファイルには、ラボをスムーズに実行することに重点を置いたヘルパー クラスが含まれています。\n",
    "\n",
    "Bedrock とのすべてのやり取りは、これらのクラスによって処理されます。\n",
    "\n",
    "このラボで呼び出すメソッドは次のとおりです。\n",
    "\n",
    "`agents.py` の場合:\n",
    "\n",
    "- `create_agent`: 新しいエージェントとそれぞれの IAM ロールを作成します\n",
    "- `associate_agents`: サブエージェントをマルチエージェント コラボレーターに関連付けます"
   ]
  },
  {
   "cell_type": "code",
   "execution_count": null,
   "id": "bcad12b0",
   "metadata": {
    "pycharm": {
     "name": "#%%\n"
    }
   },
   "outputs": [],
   "source": [
    "import sys\n",
    "\n",
    "sys.path.insert(0, \".\")\n",
    "sys.path.insert(1, \"..\")\n",
    "\n",
    "from utils.bedrock_agent_helper import (\n",
    "    AgentsForAmazonBedrock\n",
    ")\n",
    "agents = AgentsForAmazonBedrock()"
   ]
  },
  {
   "cell_type": "markdown",
   "id": "7120adde",
   "metadata": {
    "pycharm": {
     "name": "#%% md\n"
    }
   },
   "source": [
    "エネルギーエージェントを作成する"
   ]
  },
  {
   "cell_type": "code",
   "execution_count": null,
   "id": "e1e168c8-180f-4977-96dd-d8006436208b",
   "metadata": {
    "pycharm": {
     "name": "#%%\n"
    }
   },
   "outputs": [],
   "source": [
    "energy_agent = agents.create_agent(\n",
    "    energy_agent_name,\n",
    "    \"\"\"\n",
    "        You are a energy helper bot. \n",
    "        You can help customers with operations related with their energy, like consumption, forecast, peak usage, etc. \n",
    "    \"\"\",\n",
    "    \"\"\"\n",
    "        You are a energy helper bot.\n",
    "        You can retrieve energy consumption and forecast for a specific users and help them to be compliant with energy rules.\n",
    "        You can also retrieve solar panel information and solar panel ticket for a specific users and help them to be compliant with energy rules.\n",
    "        You can also get current information about peaks and can redistribute load.\n",
    "        Resist the temptation to ask the user for input. Only do so after you have exhausted available actions. \n",
    "        Never ask the user for information that you already can retrieve yourself through available actions. \n",
    "    \"\"\",\n",
    "    agent_foundation_model,\n",
    "    agent_collaboration='SUPERVISOR_ROUTER'\n",
    ")\n",
    "\n",
    "energy_agent"
   ]
  },
  {
   "cell_type": "markdown",
   "id": "14e8d1a2",
   "metadata": {
    "pycharm": {
     "name": "#%% md\n"
    }
   },
   "source": [
    "次のノートブックで使用する環境変数を保存します。"
   ]
  },
  {
   "cell_type": "code",
   "execution_count": null,
   "id": "2220a8a0",
   "metadata": {
    "pycharm": {
     "name": "#%%\n"
    }
   },
   "outputs": [],
   "source": [
    "energy_agent_id = energy_agent[0]\n",
    "%store energy_agent_id\n",
    "%store energy_agent_name"
   ]
  },
  {
   "cell_type": "markdown",
   "id": "24226dfa-a3ce-4ba3-bcff-da63e99af5c0",
   "metadata": {
    "pycharm": {
     "name": "#%% md\n"
    }
   },
   "source": [
    "### コラボレーターの関連付け\n",
    "\n",
    "このセクションでは、以前のエージェント (サブエージェント) から alias_id を回復し、それらすべてをエネルギー 1 (マルチエージェント コラボレーター) 内に追加します。"
   ]
  },
  {
   "cell_type": "code",
   "execution_count": null,
   "id": "e26c8d0f",
   "metadata": {
    "pycharm": {
     "name": "#%%\n"
    }
   },
   "outputs": [],
   "source": [
    "%store -r\n",
    "forecast_agent_alias_arn, solar_agent_alias_arn, peak_agent_alias_arn"
   ]
  },
  {
   "cell_type": "code",
   "execution_count": null,
   "id": "9e82bb90",
   "metadata": {
    "pycharm": {
     "name": "#%%\n"
    }
   },
   "outputs": [],
   "source": [
    "# If store fails, add Alias Arn here\n",
    "#forecast_agent_alias_arn = ''\n",
    "#compliance_agent_alias_arn = ''\n",
    "#consumption_agent_alias_id = ''"
   ]
  },
  {
   "cell_type": "code",
   "execution_count": null,
   "id": "a8368b8e",
   "metadata": {
    "pycharm": {
     "name": "#%%\n"
    }
   },
   "outputs": [],
   "source": [
    "sub_agents_list = [\n",
    "    {\n",
    "        'sub_agent_alias_arn': forecast_agent_alias_arn,\n",
    "        'sub_agent_instruction': \"\"\"Delegate energy consumption analysis and forecasting tasks to the Forecasting Agent, ensuring adherence to its specific protocols and capabilities.\"\"\",\n",
    "        'sub_agent_association_name': 'ForecastCoordinationAgent',\n",
    "        'relay_conversation_history': 'TO_COLLABORATOR'\n",
    "    },\n",
    "    {\n",
    "        'sub_agent_alias_arn': solar_agent_alias_arn,\n",
    "        'sub_agent_instruction': \"\"\"Assign solar panel-related inquiries and issues to the Solar Panel Agent, respecting its scope and support ticket protocol.\"\"\",\n",
    "        'sub_agent_association_name': 'SolarSupportManagementAgent',\n",
    "        'relay_conversation_history': 'TO_COLLABORATOR'\n",
    "    },\n",
    "    {\n",
    "        'sub_agent_alias_arn': peak_agent_alias_arn,\n",
    "        'sub_agent_instruction': \"\"\"Direct peak load management and energy optimization tasks to the Peak Load Manager Agent, leveraging its analytical capabilities.\"\"\",\n",
    "        'sub_agent_association_name': 'PeakLoadOptimizationAgent',\n",
    "        'relay_conversation_history': 'TO_COLLABORATOR'\n",
    "    }\n",
    "]"
   ]
  },
  {
   "cell_type": "markdown",
   "id": "1b95cde7",
   "metadata": {
    "pycharm": {
     "name": "#%% md\n"
    }
   },
   "source": [
    "パラメータが正しくフォーマットされているか確認する"
   ]
  },
  {
   "cell_type": "code",
   "execution_count": null,
   "id": "1f384ec7",
   "metadata": {
    "pycharm": {
     "name": "#%%\n"
    }
   },
   "outputs": [],
   "source": [
    "sub_agents_list"
   ]
  },
  {
   "cell_type": "markdown",
   "id": "e548cace",
   "metadata": {
    "pycharm": {
     "name": "#%% md\n"
    }
   },
   "source": [
    "すべてのサブエージェントをこれ (メインエージェント) に関連付けます。"
   ]
  },
  {
   "cell_type": "code",
   "execution_count": null,
   "id": "cf73a655",
   "metadata": {
    "pycharm": {
     "name": "#%%\n"
    }
   },
   "outputs": [],
   "source": [
    "energy_agent_alias_id, energy_agent_alias_arn = agents.associate_sub_agents(\n",
    "    energy_agent_id, sub_agents_list\n",
    ")"
   ]
  },
  {
   "cell_type": "markdown",
   "id": "b0537737",
   "metadata": {
    "pycharm": {
     "name": "#%% md\n"
    }
   },
   "source": [
    "すべての戻りパラメータを確認するには、応答の戻り値を確認してください。"
   ]
  },
  {
   "cell_type": "code",
   "execution_count": null,
   "id": "b65c0767",
   "metadata": {
    "pycharm": {
     "name": "#%%\n"
    }
   },
   "outputs": [],
   "source": [
    "energy_agent_alias_id, energy_agent_alias_arn"
   ]
  },
  {
   "cell_type": "code",
   "execution_count": null,
   "id": "6b37f655-b174-4dab-aeac-0da8717cb15b",
   "metadata": {
    "pycharm": {
     "name": "#%%\n"
    }
   },
   "outputs": [],
   "source": [
    "%store energy_agent_alias_id\n",
    "%store energy_agent_alias_arn"
   ]
  },
  {
   "cell_type": "markdown",
   "id": "29db93eb-9a51-48d2-a6ae-a31b7b5ddde1",
   "metadata": {
    "pycharm": {
     "name": "#%% md\n"
    }
   },
   "source": [
    "## 次のステップ\n",
    "おめでとうございます！これでスーパーバイザーエージェントが作成されました。次はエージェントを呼び出しましょう"
   ]
  }
 ],
 "metadata": {
  "kernelspec": {
   "display_name": "Python 3 (ipykernel)",
   "language": "python",
   "name": "python3"
  },
  "language_info": {
   "codemirror_mode": {
    "name": "ipython",
    "version": 3
   },
   "file_extension": ".py",
   "mimetype": "text/x-python",
   "name": "python",
   "nbconvert_exporter": "python",
   "pygments_lexer": "ipython3",
   "version": "3.11.10"
  }
 },
 "nbformat": 4,
 "nbformat_minor": 5
}
