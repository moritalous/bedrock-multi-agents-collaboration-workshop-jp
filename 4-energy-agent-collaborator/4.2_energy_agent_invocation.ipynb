{
 "cells": [
  {
   "cell_type": "markdown",
   "id": "fb8d63a2-913e-498a-a01a-5e66a39bf3e7",
   "metadata": {
    "pycharm": {
     "name": "#%% md\n"
    }
   },
   "source": [
    "# Lab 4. Energy Agent Collaborator"
   ]
  },
  {
   "cell_type": "markdown",
   "id": "63678eaa-8830-4cbe-94af-5ebd8b0e03e0",
   "metadata": {
    "pycharm": {
     "name": "#%% md\n"
    }
   },
   "source": [
    "## はじめに\n",
    "\n",
    "前回のノートブックでは、Amazon Bedrock でマルチエージェント コラボレーター機能を作成する方法を説明しました。\n",
    "\n",
    "[マルチエージェント コラボレーション](https://docs.aws.amazon.com/bedrock/latest/userguide/agents-multi-agents-collaboration.html) は、エージェント間の階層的なコラボレーションを可能にする Amazon Bedrock Agents のネイティブ機能です。これで、エージェント コラボレーションを有効にして、セカンダリ エージェントをスーパーバイザー エージェントに関連付けることができます。これらのセカンダリ エージェントは、同じアカウント内の既存のエージェントであればどれでもかまいません (コラボレーションを持つエージェントも含む)。\n",
    "\n",
    "このノートブックでは、前回のラボで作成したスーパーバイザー エージェントとはやり取りしません。\n",
    "\n",
    "以下は、マルチエージェント コラボレーターの完全なアーキテクチャを表しています。\n",
    "\n",
    "![アーキテクチャ](img/energy_manager_agent.png)"
   ]
  },
  {
   "cell_type": "markdown",
   "id": "5f4b36f5",
   "metadata": {
    "pycharm": {
     "name": "#%% md\n"
    }
   },
   "source": [
    "このラボでは、詳細なトレースを使用して一連のテストを実行し、エージェントで行われている思考の連鎖の推論を確認します。\n",
    "\n",
    "**[思考の連鎖の推論](https://docs.aws.amazon.com/bedrock/latest/userguide/what-is-prompt-engineering.html)** は、プロンプトに基づいて回答がどのように導き出されるかを段階的に推論するプロンプトエンジニアリング手法です。\n",
    "\n",
    "Amazon Bedrock Agents では、[トレース](https://docs.aws.amazon.com/bedrock/latest/userguide/trace-events.html) を使用して、エージェントの段階的な推論プロセスを理解できます。マルチエージェントコラボレーション機能を使用すると、スーパーバイザートレースはサブエージェントの推論の詳細も提供します。"
   ]
  },
  {
   "cell_type": "markdown",
   "id": "b3ba49fa-3293-4ea6-8dee-fb9f410c6481",
   "metadata": {
    "pycharm": {
     "name": "#%% md\n"
    }
   },
   "source": [
    "## セットアップ\n",
    "\n",
    "boto3 のバージョンが最新であることを確認してください。\n",
    "\n",
    "そうでない場合は、[notebook 1](../1-energy-forecast/1_forecasting_agent.ipynb) を返さず、セットアップ ブロックを再度実行してください。"
   ]
  },
  {
   "cell_type": "code",
   "execution_count": null,
   "id": "a6d6d852",
   "metadata": {
    "pycharm": {
     "name": "#%%\n"
    }
   },
   "outputs": [],
   "source": [
    "!pip freeze | grep boto3"
   ]
  },
  {
   "cell_type": "markdown",
   "id": "9cab0934-d025-47a2-a276-9d3fdb5a1d61",
   "metadata": {
    "pycharm": {
     "name": "#%% md\n"
    }
   },
   "source": [
    "パッケージを有効にするにはカーネルを再起動してください"
   ]
  },
  {
   "cell_type": "code",
   "execution_count": null,
   "id": "c10d5b0b-fc4d-4733-a1cc-49ef6402785f",
   "metadata": {
    "pycharm": {
     "name": "#%%\n"
    }
   },
   "outputs": [],
   "source": [
    "import IPython\n",
    "\n",
    "# IPython.Application.instance().kernel.do_shutdown(True)"
   ]
  },
  {
   "cell_type": "markdown",
   "id": "d2002dc2",
   "metadata": {
    "pycharm": {
     "name": "#%% md\n"
    }
   },
   "source": [
    "boto3のバージョンが最新かどうかを確認してください"
   ]
  },
  {
   "cell_type": "code",
   "execution_count": null,
   "id": "1895b3fc",
   "metadata": {
    "pycharm": {
     "name": "#%%\n"
    }
   },
   "outputs": [],
   "source": [
    "!pip freeze | grep boto3"
   ]
  },
  {
   "cell_type": "markdown",
   "id": "ccf37dd5-bfaf-4563-a6ad-f9d7637c6e43",
   "metadata": {
    "pycharm": {
     "name": "#%% md\n"
    }
   },
   "source": [
    "## マルチエージェント コラボレーターの呼び出し\n",
    "\n",
    "異なるクエリを使用してスーパーバイザー エージェントを呼び出し、異なるサブエージェントの呼び出しをトリガーしてみましょう。その前に、`bedrock_agent_helper.py` を Python パスに追加して、ファイルが認識され、呼び出されるようにします。\n",
    "\n",
    "次に、ヘルパー クラス `bedrock_agent_helper.py` をインポートします。\n",
    "\n",
    "これらのファイルには、ラボをスムーズに実行することに重点を置いたヘルパー クラスが含まれています。\n",
    "\n",
    "Bedrock とのすべてのやり取りは、これらのクラスによって処理されます。\n",
    "\n",
    "このラボで呼び出すメソッドは次のとおりです。\n",
    "\n",
    "`agents.py` の場合:\n",
    "\n",
    "- `invoke`: クエリを使用してエージェントを呼び出す"
   ]
  },
  {
   "cell_type": "code",
   "execution_count": null,
   "id": "21a3648b",
   "metadata": {
    "pycharm": {
     "name": "#%%\n"
    }
   },
   "outputs": [],
   "source": [
    "import sys\n",
    "import uuid\n",
    "import time\n",
    "\n",
    "sys.path.insert(0, \".\")\n",
    "sys.path.insert(1, \"..\")\n",
    "\n",
    "from utils.bedrock_agent_helper import (\n",
    "    AgentsForAmazonBedrock\n",
    ")\n",
    "agents = AgentsForAmazonBedrock()"
   ]
  },
  {
   "cell_type": "markdown",
   "id": "71703f42-0c14-4ab2-b868-73cd72e1f4ff",
   "metadata": {
    "pycharm": {
     "name": "#%% md\n"
    }
   },
   "source": [
    "続行する前に、環境内のスーパーバイザー エージェントとそのサブエージェントから情報を回復しましょう。"
   ]
  },
  {
   "cell_type": "code",
   "execution_count": null,
   "id": "e26c8d0f",
   "metadata": {
    "pycharm": {
     "name": "#%%\n"
    }
   },
   "outputs": [],
   "source": [
    "%store -r\n",
    "print(\"Supervisor agent name:\", energy_agent_name, \"id:\", energy_agent_id)\n",
    "print(\"Forecast agent name:\", forecast_agent_name, \"id:\", forecast_agent_id, \"alias_id:\", forecast_agent_alias_id)\n",
    "print(\"Solar Panel agent name:\", solar_agent_name, \"id:\", solar_agent_id, \"alias_id:\", solar_agent_alias_id)\n",
    "print(\"Peak Management agent name:\", peak_agent_name, \"id:\", peak_agent_id, \"alias_id:\", peak_agent_alias_id)"
   ]
  },
  {
   "cell_type": "markdown",
   "id": "c55d9924-287c-4899-b295-ccb91ffefff2",
   "metadata": {
    "pycharm": {
     "name": "#%% md\n"
    }
   },
   "source": [
    "トレースをより良く視覚化するために、エージェント名を含む辞書を設定できるようになりました。"
   ]
  },
  {
   "cell_type": "code",
   "execution_count": null,
   "id": "b73c79ff-12a6-4671-8217-d5c3e64e611d",
   "metadata": {
    "pycharm": {
     "name": "#%%\n"
    }
   },
   "outputs": [],
   "source": [
    "multi_agent_names = {\n",
    "    f\"{forecast_agent_id}/{forecast_agent_alias_id}\": forecast_agent_name,\n",
    "    f\"{solar_agent_id}/{solar_agent_alias_id}\": solar_agent_name,\n",
    "    f\"{peak_agent_id}/{peak_agent_alias_id}\": peak_agent_name,\n",
    "    f\"{energy_agent_id}/{energy_agent_alias_id}\": energy_agent_name\n",
    "}"
   ]
  },
  {
   "cell_type": "markdown",
   "id": "fdbc0aff",
   "metadata": {
    "pycharm": {
     "name": "#%% md\n"
    }
   },
   "source": [
    "次のセクションでは、マルチエージェントコラボレーターによってサブエージェントを呼び出します。"
   ]
  },
  {
   "cell_type": "markdown",
   "id": "9d58ec9a",
   "metadata": {
    "pycharm": {
     "name": "#%% md\n"
    }
   },
   "source": [
    "### ラボ 1 - 予測エージェント\n",
    "まず、予測エージェントを要求するプロンプトを使用してエージェントにクエリを実行します。"
   ]
  },
  {
   "cell_type": "code",
   "execution_count": null,
   "id": "9b69a4c5",
   "metadata": {
    "pycharm": {
     "name": "#%%\n"
    }
   },
   "outputs": [],
   "source": [
    "%%time\n",
    "session_id:str = str(uuid.uuid1())\n",
    "\n",
    "response = agents.invoke(\n",
    "    \"Can you give me my forecasted energy consumption? How does it compare to my current usage? My id is 1\", \n",
    "    energy_agent_id,\n",
    "    session_id=session_id,\n",
    "    enable_trace=True,\n",
    "    multi_agent_names=multi_agent_names\n",
    ")\n",
    "print(\"====================\")\n",
    "print(response)"
   ]
  },
  {
   "cell_type": "code",
   "execution_count": null,
   "id": "4b416317-af47-4a39-bcca-92f9b2f2e17e",
   "metadata": {},
   "outputs": [],
   "source": [
    "time.sleep(60)"
   ]
  },
  {
   "cell_type": "code",
   "execution_count": null,
   "id": "f1dc633b-358f-4947-834a-af19d25c84e6",
   "metadata": {},
   "outputs": [],
   "source": [
    "%%time\n",
    "session_id:str = str(uuid.uuid1())\n",
    "\n",
    "response = agents.invoke(\n",
    "    \"can you give me my past energy consumption? What is my average spending on summer months? My customer id is 1\", \n",
    "    energy_agent_id,\n",
    "    session_id=session_id,\n",
    "    enable_trace=True,\n",
    "    multi_agent_names=multi_agent_names\n",
    ")\n",
    "print(\"====================\")\n",
    "print(response)"
   ]
  },
  {
   "cell_type": "code",
   "execution_count": null,
   "id": "fef5ffc5-c693-44f2-be1e-9bb3845bed6d",
   "metadata": {},
   "outputs": [],
   "source": [
    "time.sleep(60)"
   ]
  },
  {
   "cell_type": "code",
   "execution_count": null,
   "id": "77b9c6ea",
   "metadata": {
    "pycharm": {
     "name": "#%%\n"
    }
   },
   "outputs": [],
   "source": [
    "%%time\n",
    "session_id:str = str(uuid.uuid1())\n",
    "\n",
    "response = agents.invoke(\n",
    "    \"Can you update my forecast for month 12/2024? I will be travelling and my estimate will be 70. My id is 1\", \n",
    "    energy_agent_id,\n",
    "    session_id=session_id,\n",
    "    enable_trace=True,\n",
    "    multi_agent_names=multi_agent_names\n",
    ")\n",
    "print(\"====================\")\n",
    "print(response)"
   ]
  },
  {
   "cell_type": "code",
   "execution_count": null,
   "id": "5dfc387b-30c9-404f-bd5e-1a7985f8ac45",
   "metadata": {},
   "outputs": [],
   "source": [
    "time.sleep(60)"
   ]
  },
  {
   "cell_type": "code",
   "execution_count": null,
   "id": "627a56b2",
   "metadata": {
    "pycharm": {
     "name": "#%%\n"
    }
   },
   "outputs": [],
   "source": [
    "%%time\n",
    "session_id:str = str(uuid.uuid1())\n",
    "\n",
    "response = agents.invoke(\n",
    "    \"Can you give me my forecasted energy consumption month by month? My id is 1\", \n",
    "    energy_agent_id,\n",
    "    session_id=session_id,\n",
    "    enable_trace=True,\n",
    "    multi_agent_names=multi_agent_names\n",
    ")\n",
    "print(\"====================\")\n",
    "print(response)"
   ]
  },
  {
   "cell_type": "code",
   "execution_count": null,
   "id": "0b4f4cd0-f920-4f2b-9355-1f2a7f0ff38d",
   "metadata": {},
   "outputs": [],
   "source": [
    "time.sleep(60)"
   ]
  },
  {
   "cell_type": "markdown",
   "id": "7df63042",
   "metadata": {
    "pycharm": {
     "name": "#%% md\n"
    }
   },
   "source": [
    "#### ラボ 2 - ソーラーパネルエージェント"
   ]
  },
  {
   "cell_type": "code",
   "execution_count": null,
   "id": "69b93d8f",
   "metadata": {
    "pycharm": {
     "name": "#%%\n"
    }
   },
   "outputs": [],
   "source": [
    "%%time\n",
    "session_id:str = str(uuid.uuid1())\n",
    "response = agents.invoke(\n",
    "    \"how can I check if my Sunpower double-X solar panel eletrical consumption is compliant with energy rules?\", \n",
    "    energy_agent_id,\n",
    "    session_id=session_id,\n",
    "    enable_trace=True\n",
    ")\n",
    "print(\"====================\")\n",
    "print(response)"
   ]
  },
  {
   "cell_type": "code",
   "execution_count": null,
   "id": "2ae4239d-3585-4873-a58f-b5f0a2f374b2",
   "metadata": {},
   "outputs": [],
   "source": [
    "time.sleep(60)"
   ]
  },
  {
   "cell_type": "code",
   "execution_count": null,
   "id": "6c6b9ad4",
   "metadata": {
    "pycharm": {
     "name": "#%%\n"
    }
   },
   "outputs": [],
   "source": [
    "%%time\n",
    "session_id:str = str(uuid.uuid1())\n",
    "\n",
    "response = agents.invoke(\n",
    "    \"Can I get all tickets that I have? My customer id is 1\", \n",
    "    energy_agent_id,\n",
    "    session_id=session_id,\n",
    "    enable_trace=True,\n",
    "    multi_agent_names=multi_agent_names\n",
    ")\n",
    "print(\"====================\")\n",
    "print(response)"
   ]
  },
  {
   "cell_type": "code",
   "execution_count": null,
   "id": "081ccb6d-d7bb-4e5c-a830-074301ef07e3",
   "metadata": {},
   "outputs": [],
   "source": [
    "time.sleep(60)"
   ]
  },
  {
   "cell_type": "markdown",
   "id": "3cf7502f",
   "metadata": {
    "pycharm": {
     "name": "#%% md\n"
    }
   },
   "source": [
    "#### ラボ 3 - ピーク負荷マネージャーエージェント"
   ]
  },
  {
   "cell_type": "code",
   "execution_count": null,
   "id": "0c169c2c",
   "metadata": {
    "pycharm": {
     "name": "#%%\n"
    }
   },
   "outputs": [],
   "source": [
    "%%time\n",
    "session_id:str = str(uuid.uuid1())\n",
    "\n",
    "response = agents.invoke(\n",
    "    \"What's causing my peak load? My id is 2.\", \n",
    "    energy_agent_id,\n",
    "    session_id=session_id,\n",
    "    enable_trace=True,\n",
    "    multi_agent_names=multi_agent_names\n",
    ")\n",
    "print(\"====================\")\n",
    "print(response)"
   ]
  },
  {
   "cell_type": "code",
   "execution_count": null,
   "id": "48dc09d1-4a7f-4409-8602-690e6a8e5117",
   "metadata": {},
   "outputs": [],
   "source": [
    "time.sleep(60)"
   ]
  },
  {
   "cell_type": "code",
   "execution_count": null,
   "id": "3234621c",
   "metadata": {
    "pycharm": {
     "name": "#%%\n"
    }
   },
   "outputs": [],
   "source": [
    "%%time\n",
    "session_id:str = str(uuid.uuid1())\n",
    "\n",
    "response = agents.invoke(\n",
    "    \"Is it possible to optimize my consumption? My id is 1\", \n",
    "    energy_agent_id,\n",
    "    session_id=session_id,\n",
    "    enable_trace=True,\n",
    "    multi_agent_names=multi_agent_names\n",
    ")\n",
    "print(\"====================\")\n",
    "print(response)"
   ]
  },
  {
   "cell_type": "markdown",
   "id": "29db93eb-9a51-48d2-a6ae-a31b7b5ddde1",
   "metadata": {
    "pycharm": {
     "name": "#%% md\n"
    }
   },
   "source": [
    "### 次のステップ\n",
    "\n",
    "おめでとうございます。ワークショップは完了です。\n",
    "\n",
    "これまでに、3 つのサブエージェントと 1 つのスーパーバイザー エージェントを作成しました。複数のサブエージェントを必要とするプロンプトを使用してスーパーバイザー エージェントを呼び出しました。\n",
    "\n",
    "その他のマルチエージェント コラボレーションの例については、[Amazon Bedrock エージェント サンプル](https://github.com/awslabs/amazon-bedrock-agent-samples) リポジトリを確認してください。\n",
    "\n",
    "次に、予期しないコストを回避するためにリソースをクリーンアップしましょう。"
   ]
  }
 ],
 "metadata": {
  "kernelspec": {
   "display_name": "Python 3 (ipykernel)",
   "language": "python",
   "name": "python3"
  },
  "language_info": {
   "codemirror_mode": {
    "name": "ipython",
    "version": 3
   },
   "file_extension": ".py",
   "mimetype": "text/x-python",
   "name": "python",
   "nbconvert_exporter": "python",
   "pygments_lexer": "ipython3",
   "version": "3.11.10"
  }
 },
 "nbformat": 4,
 "nbformat_minor": 5
}
